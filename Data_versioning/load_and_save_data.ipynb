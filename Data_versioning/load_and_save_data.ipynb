{
 "cells": [
  {
   "cell_type": "code",
   "execution_count": 1,
   "metadata": {},
   "outputs": [],
   "source": [
    "import pandas as pd\n",
    "from datetime import datetime\n",
    "from sklearn.model_selection import train_test_split\n",
    "from sklearn.preprocessing import MinMaxScaler\n",
    "import os\n",
    "import pickle"
   ]
  },
  {
   "cell_type": "markdown",
   "metadata": {},
   "source": [
    "## General variables"
   ]
  },
  {
   "cell_type": "code",
   "execution_count": 2,
   "metadata": {},
   "outputs": [],
   "source": [
    "# Path to get data to be versioned\n",
    "data_folder = '../../../Data/Training'\n",
    "# Path to create the versioned data\n",
    "pickle_data_path = f'{data_folder}/wavelet_pickle_data'\n",
    "\n",
    "pits = list(range(1,5))\n",
    "redox_sensors = list(range(1,6))\n",
    "dt_2023 = datetime(2023, 1,1, 0, 0, 0)"
   ]
  },
  {
   "cell_type": "markdown",
   "metadata": {},
   "source": [
    "## Support functions"
   ]
  },
  {
   "cell_type": "code",
   "execution_count": 3,
   "metadata": {},
   "outputs": [],
   "source": [
    "def create_folder(path: str):\n",
    "    if not os.path.exists(path):\n",
    "        os.makedirs(path)"
   ]
  },
  {
   "cell_type": "markdown",
   "metadata": {},
   "source": [
    "## Create directories"
   ]
  },
  {
   "cell_type": "code",
   "execution_count": 4,
   "metadata": {},
   "outputs": [],
   "source": [
    "# Create root folder\n",
    "create_folder(pickle_data_path)\n",
    "for sub_folder in ['2022', '2022_sensors', '2023', '2023_sensors']:\n",
    "    # Create main data folder\n",
    "    main_path = f'{pickle_data_path}/{sub_folder}'\n",
    "    create_folder(main_path)\n",
    "    # Create scaled data folder\n",
    "    scaled_path = f'{main_path}/Scaled'\n",
    "    create_folder(scaled_path)\n",
    "    # Create prediction data folders\n",
    "    if '2022' in sub_folder:\n",
    "        create_folder(f'{main_path}/Prediction')\n",
    "        create_folder(f'{scaled_path}/Prediction')"
   ]
  },
  {
   "cell_type": "markdown",
   "metadata": {},
   "source": [
    "# Generate data\n",
    "\n",
    "Training data excludes redox values >=900. We chose this approach so that the ML model only focuses on finding redox_errors (fluctuation on normal scale values)."
   ]
  },
  {
   "cell_type": "markdown",
   "metadata": {},
   "source": [
    "## Training data support functions"
   ]
  },
  {
   "cell_type": "code",
   "execution_count": 5,
   "metadata": {},
   "outputs": [],
   "source": [
    "def get_y(data: pd.DataFrame):\n",
    "    \"\"\"Return target value for all sensor training\"\"\"\n",
    "    return data[data['TIMESTAMP'] < dt_2023].loc[:,[f'Redox_error_flag']]\n",
    "\n",
    "def get_X(data: pd.DataFrame, get_2023: bool = False):\n",
    "    \"\"\"Return training features for all sensor training\"\"\"\n",
    "    cols_to_remove = ['log_redox(1)', 'log_redox(2)', 'log_redox(3)', 'log_redox(4)', 'log_redox(5)',\n",
    "                      'Redox_error_flag(1)', 'Redox_error_flag(2)', 'Redox_error_flag(3)', 'Redox_error_flag(4)',\n",
    "                      'Redox_error_flag(5)', 'Redox_error_flag_available', 'Redox_error_flag', 'TIMESTAMP_DIFF']\n",
    "\n",
    "    if get_2023:\n",
    "        return data.loc[data['TIMESTAMP'] >= dt_2023].loc[:,~data.columns.isin(cols_to_remove)]\n",
    "    return data.loc[data['TIMESTAMP'] < dt_2023].loc[:,~data.columns.isin(cols_to_remove)]\n",
    "\n",
    "def get_y_sensor(data: pd.DataFrame, redox_sensor: int):\n",
    "    \"\"\"Return target value for specific sensor training\"\"\"\n",
    "    return data[data['TIMESTAMP'] < dt_2023].loc[:,[f'Redox_error_flag({redox_sensor})']]\n",
    "\n",
    "def get_X_sensor(data: pd.DataFrame, redox_sensor: int, get_2023: bool = False):\n",
    "    \"\"\"Return training features for specific sensor training\"\"\"\n",
    "    cols = [f'Redox_Avg({redox_sensor})', f'Temp_T12_Avg({redox_sensor})', f'EC_Avg({redox_sensor})', f'Matric_potential_Avg({redox_sensor})',\n",
    "            'Water_level_Avg', 'Temp_ottpls_Avg', 'BatterymV_Min', f'WC{redox_sensor}',\n",
    "            f'Redox_Avg({redox_sensor})_sigma_b_24', f'Redox_Avg({redox_sensor})_sigma_f_24',\n",
    "            f'Redox_Avg({redox_sensor})_sigma_b_12', f'Redox_Avg({redox_sensor})_sigma_f_12',\n",
    "            f'Wave_period_0.5({redox_sensor})', f'Wave_period_0.7({redox_sensor})', f'Wave_period_0.9({redox_sensor})',\n",
    "            f'Wave_period_1.1({redox_sensor})', f'Wave_period_1.5({redox_sensor})', f'Wave_period_1.9({redox_sensor})',\n",
    "            f'Wave_period_2.5({redox_sensor})', f'Wave_period_3.3({redox_sensor})', f'Wave_period_4.4({redox_sensor})',\n",
    "            'TIMESTAMP', 'pit_number']\n",
    "\n",
    "    if get_2023:\n",
    "        return data.loc[data['TIMESTAMP'] >= dt_2023].loc[:,cols]\n",
    "    return data.loc[data['TIMESTAMP'] < dt_2023].loc[:,cols]\n",
    "\n",
    "def get_data():\n",
    "    \"\"\"Return full data with custom added features\"\"\"\n",
    "    return pd.read_csv(f'{data_folder}/Raw_training_data_full_wavelet.csv', parse_dates=['TIMESTAMP'])\n",
    "\n",
    "def get_training_data(X_train: pd.DataFrame, X_test: pd.DataFrame, y_train: pd.DataFrame, y_test: pd.DataFrame, X_train_scaled: pd.DataFrame, X_test_scaled: pd.DataFrame):\n",
    "    \"\"\"Return data where high values (>=900) are removed. This makes sure that we only target redox errors and not also too high (faulty) values\"\"\"\n",
    "    X_train.drop(['TIMESTAMP', 'pit_number'], axis=1, inplace=True)\n",
    "    X_test.drop(['TIMESTAMP', 'pit_number'], axis=1, inplace=True)\n",
    "    X_train_scaled.drop(['TIMESTAMP', 'pit_number'], axis=1, inplace=True)\n",
    "    X_test_scaled.drop(['TIMESTAMP', 'pit_number'], axis=1, inplace=True)\n",
    "    train_ids = X_train.loc[(X_train['Redox_Avg(1)'] <= 900) & (X_train['Redox_Avg(2)'] <= 900) & (X_train['Redox_Avg(3)'] <= 900) & (X_train['Redox_Avg(4)'] <= 900) & (X_train['Redox_Avg(5)'] <= 900)].index.array\n",
    "    test_ids = X_test.loc[(X_test['Redox_Avg(1)'] <= 900) & (X_test['Redox_Avg(2)'] <= 900) & (X_test['Redox_Avg(3)'] <= 900) & (X_test['Redox_Avg(4)'] <= 900) & (X_test['Redox_Avg(5)'] <= 900)].index.array\n",
    "    return (X_train.loc[train_ids], X_test.loc[test_ids], y_train.loc[train_ids], y_test.loc[test_ids], X_train_scaled.loc[train_ids], X_test_scaled.loc[test_ids])\n",
    "\n",
    "def get_training_data_sensor(X_train: pd.DataFrame, X_test: pd.DataFrame, y_train: pd.DataFrame, y_test: pd.DataFrame, X_train_scaled: pd.DataFrame, X_test_scaled: pd.DataFrame, redox_sensor: int):\n",
    "    \"\"\"Return sensors data where high values (>=900) are removed. This makes sure that we only target redox errors and not also too high (faulty) values\"\"\"\n",
    "    X_train.drop(['TIMESTAMP', 'pit_number'], axis=1, inplace=True)\n",
    "    X_test.drop(['TIMESTAMP', 'pit_number'], axis=1, inplace=True)\n",
    "    X_train_scaled.drop(['TIMESTAMP', 'pit_number'], axis=1, inplace=True)\n",
    "    X_test_scaled.drop(['TIMESTAMP', 'pit_number'], axis=1, inplace=True)\n",
    "    train_ids = X_train.loc[(X_train[f'Redox_Avg({redox_sensor})'] <= 900)].index.array\n",
    "    test_ids = X_test.loc[(X_test[f'Redox_Avg({redox_sensor})'] <= 900)].index.array\n",
    "    return (X_train.loc[train_ids], X_test.loc[test_ids], y_train.loc[train_ids], y_test.loc[test_ids], X_train_scaled.loc[train_ids], X_test_scaled.loc[test_ids])\n",
    "\n",
    "def custom_scaler(df: pd.DataFrame, redox_sensor: int = 0):\n",
    "    \"\"\"MinMax scaling for features\"\"\"\n",
    "    scaled_data = df.copy()\n",
    "    features_to_scale = []\n",
    "    if redox_sensor > 0:\n",
    "        features_to_scale = [f'Redox_Avg({redox_sensor})', f'Temp_T12_Avg({redox_sensor})', f'EC_Avg({redox_sensor})', f'Matric_potential_Avg({redox_sensor})',\n",
    "                            'Water_level_Avg', 'Temp_ottpls_Avg', 'BatterymV_Min', f'WC{redox_sensor}', f'Redox_Avg({redox_sensor})_sigma_b_24',\n",
    "                            f'Redox_Avg({redox_sensor})_sigma_f_24', f'Redox_Avg({redox_sensor})_sigma_b_12', f'Redox_Avg({redox_sensor})_sigma_f_12',\n",
    "                            f'Wave_period_0.5({redox_sensor})', f'Wave_period_0.7({redox_sensor})', f'Wave_period_0.9({redox_sensor})',\n",
    "                            f'Wave_period_1.1({redox_sensor})', f'Wave_period_1.5({redox_sensor})', f'Wave_period_1.9({redox_sensor})',\n",
    "                            f'Wave_period_2.5({redox_sensor})', f'Wave_period_3.3({redox_sensor})', f'Wave_period_4.4({redox_sensor})']\n",
    "    else:\n",
    "        features_to_scale = ['Water_level_Avg', 'Temp_ottpls_Avg', 'BatterymV_Min',\n",
    "                             f'Redox_Avg(1)', f'Temp_T12_Avg(1)', f'EC_Avg(1)', f'Matric_potential_Avg(1)', f'WC1', f'Redox_Avg(1)_sigma_b_24', f'Redox_Avg(1)_sigma_f_24', f'Redox_Avg(1)_sigma_b_12', f'Redox_Avg(1)_sigma_f_12',\n",
    "                             f'Wave_period_0.5(1)', f'Wave_period_0.7(1)', f'Wave_period_0.9(1)',f'Wave_period_1.1(1)', f'Wave_period_1.5(1)', f'Wave_period_1.9(1)', f'Wave_period_2.5(1)', f'Wave_period_3.3(1)', f'Wave_period_4.4(1)',\n",
    "                             f'Redox_Avg(2)', f'Temp_T12_Avg(2)', f'EC_Avg(2)', f'Matric_potential_Avg(2)', f'WC2', f'Redox_Avg(2)_sigma_b_24', f'Redox_Avg(2)_sigma_f_24', f'Redox_Avg(2)_sigma_b_12', f'Redox_Avg(2)_sigma_f_12',\n",
    "                             f'Wave_period_0.5(2)', f'Wave_period_0.7(2)', f'Wave_period_0.9(2)',f'Wave_period_1.1(2)', f'Wave_period_1.5(2)', f'Wave_period_1.9(2)', f'Wave_period_2.5(2)', f'Wave_period_3.3(2)', f'Wave_period_4.4(2)',\n",
    "                             f'Redox_Avg(3)', f'Temp_T12_Avg(3)', f'EC_Avg(3)', f'Matric_potential_Avg(3)', f'WC3', f'Redox_Avg(3)_sigma_b_24', f'Redox_Avg(3)_sigma_f_24', f'Redox_Avg(3)_sigma_b_12', f'Redox_Avg(3)_sigma_f_12',\n",
    "                             f'Wave_period_0.5(3)', f'Wave_period_0.7(3)', f'Wave_period_0.9(3)',f'Wave_period_1.1(3)', f'Wave_period_1.5(3)', f'Wave_period_1.9(3)', f'Wave_period_2.5(3)', f'Wave_period_3.3(3)', f'Wave_period_4.4(3)',\n",
    "                             f'Redox_Avg(4)', f'Temp_T12_Avg(4)', f'EC_Avg(4)', f'Matric_potential_Avg(4)', f'WC4', f'Redox_Avg(4)_sigma_b_24', f'Redox_Avg(4)_sigma_f_24', f'Redox_Avg(4)_sigma_b_12', f'Redox_Avg(4)_sigma_f_12',\n",
    "                             f'Wave_period_0.5(4)', f'Wave_period_0.7(4)', f'Wave_period_0.9(4)',f'Wave_period_1.1(4)', f'Wave_period_1.5(4)', f'Wave_period_1.9(4)', f'Wave_period_2.5(4)', f'Wave_period_3.3(4)', f'Wave_period_4.4(4)',\n",
    "                             f'Redox_Avg(5)', f'Temp_T12_Avg(5)', f'EC_Avg(5)', f'Matric_potential_Avg(5)', f'WC5', f'Redox_Avg(5)_sigma_b_24', f'Redox_Avg(5)_sigma_f_24', f'Redox_Avg(5)_sigma_b_12', f'Redox_Avg(5)_sigma_f_12',\n",
    "                             f'Wave_period_0.5(5)', f'Wave_period_0.7(5)', f'Wave_period_0.9(5)',f'Wave_period_1.1(5)', f'Wave_period_1.5(5)', f'Wave_period_1.9(5)', f'Wave_period_2.5(5)', f'Wave_period_3.3(5)', f'Wave_period_4.4(5)']\n",
    "\n",
    "    scaled_data[features_to_scale] = MinMaxScaler().fit_transform(df[features_to_scale])\n",
    "\n",
    "    return scaled_data"
   ]
  },
  {
   "cell_type": "markdown",
   "metadata": {},
   "source": [
    "## Get data and train test split"
   ]
  },
  {
   "cell_type": "code",
   "execution_count": 6,
   "metadata": {},
   "outputs": [],
   "source": [
    "full_data = get_data()"
   ]
  },
  {
   "cell_type": "markdown",
   "metadata": {},
   "source": [
    "## 2022 Full train test split"
   ]
  },
  {
   "cell_type": "code",
   "execution_count": 7,
   "metadata": {},
   "outputs": [],
   "source": [
    "X = get_X(full_data)\n",
    "y = get_y(full_data)\n",
    "\n",
    "X_train, X_test, y_train, y_test = train_test_split(X, y, test_size=0.30, random_state=1, stratify=y)\n",
    "\n",
    "# Scale data\n",
    "X_test_scaled = custom_scaler(X_test)\n",
    "X_train_scaled = custom_scaler(X_train)\n",
    "\n",
    "# Save prediction data\n",
    "X_test.to_pickle(f'{pickle_data_path}/2022/Prediction/X_test.pkl')\n",
    "y_test.to_pickle(f'{pickle_data_path}/2022/Prediction/y_test.pkl')\n",
    "\n",
    "X_test_scaled.to_pickle(f'{pickle_data_path}/2022/Scaled/Prediction/X_test_scaled.pkl')\n",
    "\n",
    "# Get training data\n",
    "X_train, X_test, y_train, y_test, X_train_scaled, X_test_scaled = get_training_data(X_train, X_test, y_train, y_test, X_train_scaled, X_test_scaled)\n",
    "\n",
    "# Save training data\n",
    "X_train.to_pickle(f'{pickle_data_path}/2022/X_train.pkl')\n",
    "X_test.to_pickle(f'{pickle_data_path}/2022/X_test.pkl')\n",
    "y_train.to_pickle(f'{pickle_data_path}/2022/y_train.pkl')\n",
    "y_test.to_pickle(f'{pickle_data_path}/2022/y_test.pkl')\n",
    "\n",
    "X_train_scaled.to_pickle(f'{pickle_data_path}/2022/Scaled/X_train_scaled.pkl')\n",
    "X_test_scaled.to_pickle(f'{pickle_data_path}/2022/Scaled/X_test_scaled.pkl')"
   ]
  },
  {
   "cell_type": "markdown",
   "metadata": {},
   "source": [
    "## 2022 specific sensors train test split"
   ]
  },
  {
   "cell_type": "code",
   "execution_count": 8,
   "metadata": {},
   "outputs": [],
   "source": [
    "for redox_sensor in redox_sensors:\n",
    "    X = get_X_sensor(full_data, redox_sensor)\n",
    "    y = get_y_sensor(full_data, redox_sensor)\n",
    "    \n",
    "    X_train, X_test, y_train, y_test = train_test_split(X, y, test_size=0.30, random_state=1, stratify=y)\n",
    "    \n",
    "    # Scale data\n",
    "    X_test_scaled = custom_scaler(X_test, redox_sensor)\n",
    "    X_train_scaled = custom_scaler(X_train, redox_sensor)\n",
    "\n",
    "    # Save prediction data\n",
    "    X_test.to_pickle(f'{pickle_data_path}/2022_sensors/Prediction/X_test_sensor_{redox_sensor}.pkl')\n",
    "    y_test.to_pickle(f'{pickle_data_path}/2022_sensors/Prediction/y_test_sensor_{redox_sensor}.pkl')\n",
    "\n",
    "    X_test_scaled.to_pickle(f'{pickle_data_path}/2022_sensors/Scaled/Prediction/X_test_scaled_sensor_{redox_sensor}.pkl')\n",
    "\n",
    "    # Get training data\n",
    "    X_train, X_test, y_train, y_test, X_train_scaled, X_test_scaled = get_training_data_sensor(X_train, X_test, y_train, y_test, X_train_scaled, X_test_scaled, redox_sensor)\n",
    "\n",
    "    # Save training data\n",
    "    X_train.to_pickle(f'{pickle_data_path}/2022_sensors/X_train_sensor_{redox_sensor}.pkl')\n",
    "    X_test.to_pickle(f'{pickle_data_path}/2022_sensors/X_test_sensor_{redox_sensor}.pkl')\n",
    "    y_train.to_pickle(f'{pickle_data_path}/2022_sensors/y_train_sensor_{redox_sensor}.pkl')\n",
    "    y_test.to_pickle(f'{pickle_data_path}/2022_sensors/y_test_sensor_{redox_sensor}.pkl')\n",
    "\n",
    "    X_train_scaled.to_pickle(f'{pickle_data_path}/2022_sensors/Scaled/X_train_scaled_sensor_{redox_sensor}.pkl')\n",
    "    X_test_scaled.to_pickle(f'{pickle_data_path}/2022_sensors/Scaled/X_test_scaled_sensor_{redox_sensor}.pkl')"
   ]
  },
  {
   "cell_type": "markdown",
   "metadata": {},
   "source": [
    "## Redox error flag counts in training and testing data (For full data)"
   ]
  },
  {
   "cell_type": "code",
   "execution_count": 9,
   "metadata": {},
   "outputs": [
    {
     "name": "stdout",
     "output_type": "stream",
     "text": [
      "\n",
      "Training_Y: 7336\n",
      "Testing_Y: 3157\n",
      "Percentage in testing: 0.4303435114503817\n",
      "\n"
     ]
    }
   ],
   "source": [
    "y_train = f'{pickle_data_path}/2022/y_train.pkl'\n",
    "train_y = pickle.load(open(y_train, 'rb'))\n",
    "training_y = len(train_y[train_y[f'Redox_error_flag']==True])\n",
    "\n",
    "y_test = f'{pickle_data_path}/2022/y_test.pkl'\n",
    "test_y = pickle.load(open(y_test, 'rb'))\n",
    "testing_y = len(test_y[test_y[f'Redox_error_flag']==True])\n",
    "\n",
    "print(f'\\nTraining_Y: {training_y}\\nTesting_Y: {testing_y}\\nPercentage in testing: {testing_y/training_y}\\n')"
   ]
  },
  {
   "cell_type": "markdown",
   "metadata": {},
   "source": [
    "## Redox error flag counts in training and testing data (For sensor separated data)"
   ]
  },
  {
   "cell_type": "code",
   "execution_count": 10,
   "metadata": {},
   "outputs": [
    {
     "name": "stdout",
     "output_type": "stream",
     "text": [
      "Sensor 1: \n",
      "\tTraining_Y: 2494\n",
      "\tTesting_Y: 1069\n",
      "\tPercentage in testing: 0.4286287089013633\n",
      "\n",
      "Sensor 2: \n",
      "\tTraining_Y: 8806\n",
      "\tTesting_Y: 3774\n",
      "\tPercentage in testing: 0.42857142857142855\n",
      "\n",
      "Sensor 3: \n",
      "\tTraining_Y: 9571\n",
      "\tTesting_Y: 4104\n",
      "\tPercentage in testing: 0.4287953191933967\n",
      "\n",
      "Sensor 4: \n",
      "\tTraining_Y: 9599\n",
      "\tTesting_Y: 4116\n",
      "\tPercentage in testing: 0.4287946661110532\n",
      "\n",
      "Sensor 5: \n",
      "\tTraining_Y: 9625\n",
      "\tTesting_Y: 4126\n",
      "\tPercentage in testing: 0.42867532467532465\n",
      "\n"
     ]
    }
   ],
   "source": [
    "for sensor in redox_sensors:\n",
    "    y_train = f'{pickle_data_path}/2022_sensors/y_train_sensor_{sensor}.pkl'\n",
    "    train_y = pickle.load(open(y_train, 'rb'))\n",
    "    training_y = len(train_y[train_y[f'Redox_error_flag({sensor})']==True])\n",
    "\n",
    "    y_test = f'{pickle_data_path}/2022_sensors/y_test_sensor_{sensor}.pkl'\n",
    "    test_y = pickle.load(open(y_test, 'rb'))\n",
    "    testing_y = len(test_y[test_y[f'Redox_error_flag({sensor})']==True])\n",
    "\n",
    "    print(f'Sensor {sensor}: \\n\\tTraining_Y: {training_y}\\n\\tTesting_Y: {testing_y}\\n\\tPercentage in testing: {testing_y/training_y}\\n')"
   ]
  },
  {
   "cell_type": "markdown",
   "metadata": {},
   "source": [
    "# Get 2023 prediction data"
   ]
  },
  {
   "cell_type": "markdown",
   "metadata": {},
   "source": [
    "## 2023 full Testing"
   ]
  },
  {
   "cell_type": "code",
   "execution_count": 11,
   "metadata": {},
   "outputs": [],
   "source": [
    "X_2023 = get_X(full_data, True)\n",
    "X_2023.to_pickle(f'{pickle_data_path}/2023/test.pkl')\n",
    "\n",
    "X_2023_scaled = custom_scaler(X_2023)\n",
    "\n",
    "X_2023_scaled.to_pickle(f'{pickle_data_path}/2023/Scaled/test_scaled.pkl')"
   ]
  },
  {
   "cell_type": "markdown",
   "metadata": {},
   "source": [
    "## 2023 specific sensors Testing"
   ]
  },
  {
   "cell_type": "code",
   "execution_count": 12,
   "metadata": {},
   "outputs": [],
   "source": [
    "for redox_sensor in redox_sensors:\n",
    "    X_2023 = get_X_sensor(full_data, redox_sensor, True)\n",
    "    X_2023.to_pickle(f'{pickle_data_path}/2023_sensors/test_sensor_{redox_sensor}.pkl')\n",
    "\n",
    "    X_2023_scaled = custom_scaler(X_2023, redox_sensor)\n",
    "\n",
    "    X_2023_scaled.to_pickle(f'{pickle_data_path}/2023_sensors/Scaled/test_scaled_sensor_{redox_sensor}.pkl')"
   ]
  }
 ],
 "metadata": {
  "kernelspec": {
   "display_name": "Python 3",
   "language": "python",
   "name": "python3"
  },
  "language_info": {
   "codemirror_mode": {
    "name": "ipython",
    "version": 3
   },
   "file_extension": ".py",
   "mimetype": "text/x-python",
   "name": "python",
   "nbconvert_exporter": "python",
   "pygments_lexer": "ipython3",
   "version": "3.10.12"
  }
 },
 "nbformat": 4,
 "nbformat_minor": 2
}
