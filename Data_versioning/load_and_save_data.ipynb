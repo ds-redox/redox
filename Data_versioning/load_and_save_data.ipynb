{
 "cells": [
  {
   "cell_type": "code",
   "execution_count": 1,
   "metadata": {},
   "outputs": [],
   "source": [
    "import pandas as pd\n",
    "from datetime import datetime\n",
    "from sklearn.model_selection import train_test_split\n",
    "from sklearn.preprocessing import MinMaxScaler\n",
    "import os"
   ]
  },
  {
   "cell_type": "code",
   "execution_count": 2,
   "metadata": {},
   "outputs": [],
   "source": [
    "training_data_folder = '../../../Data/Training'"
   ]
  },
  {
   "cell_type": "code",
   "execution_count": 3,
   "metadata": {},
   "outputs": [],
   "source": [
    "def get_y(data: pd.DataFrame, redox_sensor: int):\n",
    "    return data.loc[:,[f'Redox_error_flag({redox_sensor})']]\n",
    "\n",
    "def get_X(data: pd.DataFrame, redox_sensor: int):\n",
    "    cols = ['TIMESTAMP', f'Redox_Avg({redox_sensor})', f'Temp_T12_Avg({redox_sensor})', f'EC_Avg({redox_sensor})', f'Matric_potential_Avg({redox_sensor})',\n",
    "            'Water_level_Avg', 'Temp_ottpls_Avg', 'BatterymV_Min', f'WC{redox_sensor}', 'pit_number',\n",
    "            f'Redox_error_flag({redox_sensor})', 'Redox_error_flag', f'Redox_Avg({redox_sensor})_sigma_b_24', f'Redox_Avg({redox_sensor})_sigma_f_24',\n",
    "            f'Redox_Avg({redox_sensor})_sigma_b_12', f'Redox_Avg({redox_sensor})_sigma_f_12']\n",
    "    return data.loc[:,cols]\n",
    "\n",
    "def get_train_2022_test_2023_split(data: pd.DataFrame, redox_sensor: int, random_state: int):\n",
    "    dt_2023 = datetime(2023, 1,1, 0, 0, 0)\n",
    "    data_2022 = data.loc[data['TIMESTAMP'] < dt_2023].sample(frac=1, random_state=random_state)\n",
    "    data_2023 = data.loc[data['TIMESTAMP'] >= dt_2023].sample(frac=1, random_state=random_state)\n",
    "    X_train = get_X(data_2022, redox_sensor)\n",
    "    y_train = get_y(data_2022, redox_sensor)\n",
    "    X_test = get_X(data_2023, redox_sensor)\n",
    "    y_test = get_y(data_2023, redox_sensor)\n",
    "    return (X_train, X_test, y_train, y_test)\n",
    "\n",
    "def get_data():\n",
    "    return pd.read_csv(f'{training_data_folder}/Raw_training_data_full.csv', parse_dates=['TIMESTAMP'])"
   ]
  },
  {
   "cell_type": "code",
   "execution_count": 4,
   "metadata": {},
   "outputs": [
    {
     "name": "stderr",
     "output_type": "stream",
     "text": [
      "/tmp/ipykernel_21465/3851915885.py:1: DtypeWarning: Columns (40) have mixed types.Specify dtype option on import or set low_memory=False.\n",
      "  data = get_data()\n"
     ]
    }
   ],
   "source": [
    "data = get_data()"
   ]
  },
  {
   "cell_type": "markdown",
   "metadata": {},
   "source": [
    "## Removed columns"
   ]
  },
  {
   "cell_type": "code",
   "execution_count": 5,
   "metadata": {},
   "outputs": [
    {
     "data": {
      "text/plain": [
       "['Redox_Avg({num != redox_sensor})',\n",
       " 'Temp_T12_Avg({num != redox_sensor})',\n",
       " 'EC_Avg({num != redox_sensor})',\n",
       " 'Matric_potential_Avg({num != redox_sensor})',\n",
       " 'WC{num != redox_sensor}',\n",
       " 'log_redox(all)',\n",
       " 'Redox_error_flag({num != redox_sensor})',\n",
       " 'Redox_error_flag_available',\n",
       " 'TIMESTAMP_DIFF',\n",
       " 'Redox_Avg({num != redox_sensor})_sigma_b_24',\n",
       " 'Redox_Avg({num != redox_sensor})_sigma_f_24',\n",
       " 'Redox_Avg({num != redox_sensor})_sigma_b_12',\n",
       " 'Redox_Avg({num != redox_sensor})_sigma_f_12']"
      ]
     },
     "execution_count": 5,
     "metadata": {},
     "output_type": "execute_result"
    }
   ],
   "source": [
    "removed_cols = ['Redox_Avg({num != redox_sensor})', 'Temp_T12_Avg({num != redox_sensor})', 'EC_Avg({num != redox_sensor})',\n",
    "                    'Matric_potential_Avg({num != redox_sensor})', 'WC{num != redox_sensor}', 'log_redox(all)',\n",
    "                    'Redox_error_flag({num != redox_sensor})', 'Redox_error_flag_available', 'TIMESTAMP_DIFF',\n",
    "                    'Redox_Avg({num != redox_sensor})_sigma_b_24', 'Redox_Avg({num != redox_sensor})_sigma_f_24',\n",
    "                    'Redox_Avg({num != redox_sensor})_sigma_b_12', 'Redox_Avg({num != redox_sensor})_sigma_f_12']\n",
    "removed_cols"
   ]
  },
  {
   "cell_type": "markdown",
   "metadata": {},
   "source": [
    "## Scaler"
   ]
  },
  {
   "cell_type": "code",
   "execution_count": 6,
   "metadata": {},
   "outputs": [],
   "source": [
    "def custom_scaler(df: pd.DataFrame, redox_sensor: int):\n",
    "    scaled_data = df.copy()\n",
    "    features_to_scale = [f'Redox_Avg({redox_sensor})', f'Temp_T12_Avg({redox_sensor})', f'EC_Avg({redox_sensor})', f'Matric_potential_Avg({redox_sensor})',\n",
    "                         'Water_level_Avg', 'Temp_ottpls_Avg', 'BatterymV_Min', f'WC{redox_sensor}', f'Redox_Avg({redox_sensor})_sigma_b_24',\n",
    "                         f'Redox_Avg({redox_sensor})_sigma_f_24', f'Redox_Avg({redox_sensor})_sigma_b_12', f'Redox_Avg({redox_sensor})_sigma_f_12']\n",
    "\n",
    "    scaled_data[features_to_scale] = MinMaxScaler().fit_transform(df[features_to_scale])\n",
    "\n",
    "    return scaled_data"
   ]
  },
  {
   "cell_type": "markdown",
   "metadata": {},
   "source": [
    "## Create directories"
   ]
  },
  {
   "cell_type": "code",
   "execution_count": 7,
   "metadata": {},
   "outputs": [],
   "source": [
    "pickle_data_path = f'{training_data_folder}/pickle_data'\n",
    "\n",
    "def create_folder(path: str):\n",
    "    if not os.path.exists(path):\n",
    "        os.makedirs(path)\n",
    "\n",
    "create_folder(pickle_data_path)\n",
    "for sub_folder in ['Mixed', 'Year']:\n",
    "    path = f'{pickle_data_path}/{sub_folder}'\n",
    "    create_folder(path)\n",
    "    sub_path = f'{path}/Scaled'\n",
    "    create_folder(sub_path)"
   ]
  },
  {
   "cell_type": "markdown",
   "metadata": {},
   "source": [
    "## Mixed train test split"
   ]
  },
  {
   "cell_type": "code",
   "execution_count": 8,
   "metadata": {},
   "outputs": [],
   "source": [
    "for i in range(1,6):\n",
    "    X_train, X_test, y_train, y_test = train_test_split(get_X(data, i), get_y(data, i), test_size=0.30, random_state=1)\n",
    "    X_train.to_pickle(f'{pickle_data_path}/Mixed/X_train_mixed_sensor_{i}.pkl')\n",
    "    X_test.to_pickle(f'{pickle_data_path}/Mixed/X_test_mixed_sensor_{i}.pkl')\n",
    "    y_train.to_pickle(f'{pickle_data_path}/Mixed/y_train_mixed_sensor_{i}.pkl')\n",
    "    y_test.to_pickle(f'{pickle_data_path}/Mixed/y_test_mixed_sensor_{i}.pkl')\n",
    "\n",
    "    X_train_scaled = custom_scaler(X_train, i)\n",
    "    X_test_scaled = custom_scaler(X_test, i)\n",
    "\n",
    "    X_train_scaled.to_pickle(f'{pickle_data_path}/Mixed/Scaled/X_train_scaled_mixed_sensor_{i}.pkl')\n",
    "    X_test_scaled.to_pickle(f'{pickle_data_path}/Mixed/Scaled/X_test_scaled_mixed_sensor_{i}.pkl')"
   ]
  },
  {
   "cell_type": "markdown",
   "metadata": {},
   "source": [
    "## 2022 Training & 2023 Testing"
   ]
  },
  {
   "cell_type": "code",
   "execution_count": 9,
   "metadata": {},
   "outputs": [],
   "source": [
    "for i in range(1,6):\n",
    "    X_train, X_test, y_train, y_test = get_train_2022_test_2023_split(data, i, random_state=1)\n",
    "\n",
    "    X_train.to_pickle(f'{pickle_data_path}/Year/X_train_2022_sensor_{i}.pkl')\n",
    "    X_test.to_pickle(f'{pickle_data_path}/Year/X_test_2023_sensor_{i}.pkl')\n",
    "    y_train.to_pickle(f'{pickle_data_path}/Year/y_train_2022_sensor_{i}.pkl')\n",
    "    y_test.to_pickle(f'{pickle_data_path}/Year/y_test_2023_sensor_{i}.pkl')\n",
    "\n",
    "    X_train_scaled = custom_scaler(X_train, i)\n",
    "    X_test_scaled = custom_scaler(X_test, i)\n",
    "\n",
    "    X_train_scaled.to_pickle(f'{pickle_data_path}/Year/Scaled/X_train_scaled_2022_sensor_{i}.pkl')\n",
    "    X_test_scaled.to_pickle(f'{pickle_data_path}/Year/Scaled/X_test_scaled_2023_sensor_{i}.pkl')"
   ]
  }
 ],
 "metadata": {
  "kernelspec": {
   "display_name": "Python 3",
   "language": "python",
   "name": "python3"
  },
  "language_info": {
   "codemirror_mode": {
    "name": "ipython",
    "version": 3
   },
   "file_extension": ".py",
   "mimetype": "text/x-python",
   "name": "python",
   "nbconvert_exporter": "python",
   "pygments_lexer": "ipython3",
   "version": "3.10.12"
  }
 },
 "nbformat": 4,
 "nbformat_minor": 2
}
