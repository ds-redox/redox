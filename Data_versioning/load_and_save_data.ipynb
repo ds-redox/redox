{
 "cells": [
  {
   "cell_type": "code",
   "execution_count": 1,
   "metadata": {},
   "outputs": [],
   "source": [
    "import pandas as pd\n",
    "from datetime import datetime\n",
    "from sklearn.model_selection import train_test_split\n",
    "from sklearn.preprocessing import MinMaxScaler\n",
    "import os\n",
    "import pickle"
   ]
  },
  {
   "cell_type": "markdown",
   "metadata": {},
   "source": [
    "## General variables"
   ]
  },
  {
   "cell_type": "code",
   "execution_count": 2,
   "metadata": {},
   "outputs": [],
   "source": [
    "training_data_folder = '../../../Data/Training'\n",
    "pickle_data_path = f'{training_data_folder}/pickle_data'\n",
    "pits = list(range(1,5))\n",
    "redox_sensors = list(range(1,6))\n",
    "dt_2023 = datetime(2023, 1,1, 0, 0, 0)"
   ]
  },
  {
   "cell_type": "markdown",
   "metadata": {},
   "source": [
    "## Support functions"
   ]
  },
  {
   "cell_type": "code",
   "execution_count": 3,
   "metadata": {},
   "outputs": [],
   "source": [
    "def get_y(data: pd.DataFrame, redox_sensor: int):\n",
    "    return data[data['TIMESTAMP'] < dt_2023].loc[:,[f'Redox_error_flag({redox_sensor})']]\n",
    "\n",
    "def get_X(data: pd.DataFrame, redox_sensor: int, get_2023: bool = False):\n",
    "    cols = ['TIMESTAMP', f'Redox_Avg({redox_sensor})', f'Temp_T12_Avg({redox_sensor})', f'EC_Avg({redox_sensor})', f'Matric_potential_Avg({redox_sensor})',\n",
    "            'Water_level_Avg', 'Temp_ottpls_Avg', 'BatterymV_Min', f'WC{redox_sensor}', 'pit_number',\n",
    "            f'Redox_error_flag({redox_sensor})', 'Redox_error_flag', f'Redox_Avg({redox_sensor})_sigma_b_24', f'Redox_Avg({redox_sensor})_sigma_f_24',\n",
    "            f'Redox_Avg({redox_sensor})_sigma_b_12', f'Redox_Avg({redox_sensor})_sigma_f_12']\n",
    "    if get_2023:\n",
    "        return data.loc[data['TIMESTAMP'] >= dt_2023].loc[:,cols]\n",
    "    return data.loc[data['TIMESTAMP'] < dt_2023].loc[:,cols]\n",
    "\n",
    "def get_data():\n",
    "    data = pd.read_csv(f'{training_data_folder}/Raw_training_data_full.csv', parse_dates=['TIMESTAMP'])\n",
    "    data = data.loc[(data['Redox_Avg(1)'] <= 900) & (data['Redox_Avg(2)'] <= 900) & (data['Redox_Avg(3)'] <= 900) & (data['Redox_Avg(4)'] <= 900) & (data['Redox_Avg(5)'] <= 900)]\n",
    "    return data\n",
    "\n",
    "def custom_scaler(df: pd.DataFrame, redox_sensor: int):\n",
    "    scaled_data = df.copy()\n",
    "    features_to_scale = [f'Redox_Avg({redox_sensor})', f'Temp_T12_Avg({redox_sensor})', f'EC_Avg({redox_sensor})', f'Matric_potential_Avg({redox_sensor})',\n",
    "                         'Water_level_Avg', 'Temp_ottpls_Avg', 'BatterymV_Min', f'WC{redox_sensor}', f'Redox_Avg({redox_sensor})_sigma_b_24',\n",
    "                         f'Redox_Avg({redox_sensor})_sigma_f_24', f'Redox_Avg({redox_sensor})_sigma_b_12', f'Redox_Avg({redox_sensor})_sigma_f_12']\n",
    "\n",
    "    scaled_data[features_to_scale] = MinMaxScaler().fit_transform(df[features_to_scale])\n",
    "\n",
    "    return scaled_data"
   ]
  },
  {
   "cell_type": "markdown",
   "metadata": {},
   "source": [
    "## Get full training data"
   ]
  },
  {
   "cell_type": "code",
   "execution_count": 4,
   "metadata": {},
   "outputs": [
    {
     "name": "stderr",
     "output_type": "stream",
     "text": [
      "/tmp/ipykernel_169522/396919947.py:1: DtypeWarning: Columns (40) have mixed types.Specify dtype option on import or set low_memory=False.\n",
      "  full_data = get_data()\n"
     ]
    }
   ],
   "source": [
    "full_data = get_data()"
   ]
  },
  {
   "cell_type": "markdown",
   "metadata": {},
   "source": [
    "## Removed columns"
   ]
  },
  {
   "cell_type": "code",
   "execution_count": 5,
   "metadata": {},
   "outputs": [
    {
     "data": {
      "text/plain": [
       "['Redox_Avg({num != redox_sensor})',\n",
       " 'Temp_T12_Avg({num != redox_sensor})',\n",
       " 'EC_Avg({num != redox_sensor})',\n",
       " 'Matric_potential_Avg({num != redox_sensor})',\n",
       " 'WC{num != redox_sensor}',\n",
       " 'log_redox(all)',\n",
       " 'Redox_error_flag({num != redox_sensor})',\n",
       " 'Redox_error_flag_available',\n",
       " 'TIMESTAMP_DIFF',\n",
       " 'Redox_Avg({num != redox_sensor})_sigma_b_24',\n",
       " 'Redox_Avg({num != redox_sensor})_sigma_f_24',\n",
       " 'Redox_Avg({num != redox_sensor})_sigma_b_12',\n",
       " 'Redox_Avg({num != redox_sensor})_sigma_f_12']"
      ]
     },
     "execution_count": 5,
     "metadata": {},
     "output_type": "execute_result"
    }
   ],
   "source": [
    "removed_cols = ['Redox_Avg({num != redox_sensor})', 'Temp_T12_Avg({num != redox_sensor})', 'EC_Avg({num != redox_sensor})',\n",
    "                    'Matric_potential_Avg({num != redox_sensor})', 'WC{num != redox_sensor}', 'log_redox(all)',\n",
    "                    'Redox_error_flag({num != redox_sensor})', 'Redox_error_flag_available', 'TIMESTAMP_DIFF',\n",
    "                    'Redox_Avg({num != redox_sensor})_sigma_b_24', 'Redox_Avg({num != redox_sensor})_sigma_f_24',\n",
    "                    'Redox_Avg({num != redox_sensor})_sigma_b_12', 'Redox_Avg({num != redox_sensor})_sigma_f_12']\n",
    "removed_cols"
   ]
  },
  {
   "cell_type": "markdown",
   "metadata": {},
   "source": [
    "## Create directories"
   ]
  },
  {
   "cell_type": "code",
   "execution_count": 6,
   "metadata": {},
   "outputs": [],
   "source": [
    "def create_folder(path: str):\n",
    "    if not os.path.exists(path):\n",
    "        os.makedirs(path)\n",
    "\n",
    "create_folder(pickle_data_path)\n",
    "for sub_folder in ['2022', '2023']:\n",
    "    path = f'{pickle_data_path}/{sub_folder}'\n",
    "    create_folder(path)\n",
    "    if '2022' in sub_folder:\n",
    "        sub_path = f'{path}/Scaled'\n",
    "        create_folder(sub_path)"
   ]
  },
  {
   "cell_type": "markdown",
   "metadata": {},
   "source": [
    "## 2022 train test split"
   ]
  },
  {
   "cell_type": "code",
   "execution_count": 7,
   "metadata": {},
   "outputs": [],
   "source": [
    "for redox_sensor in redox_sensors:\n",
    "    X = get_X(full_data, redox_sensor)\n",
    "    y = get_y(full_data, redox_sensor)\n",
    "    \n",
    "    X_train, X_test, y_train, y_test = train_test_split(X, y, test_size=0.30, random_state=1, stratify=y[f'Redox_error_flag({redox_sensor})'])\n",
    "    X_train.to_pickle(f'{pickle_data_path}/2022/X_train_sensor_{redox_sensor}.pkl')\n",
    "    X_test.to_pickle(f'{pickle_data_path}/2022/X_test_sensor_{redox_sensor}.pkl')\n",
    "    y_train.to_pickle(f'{pickle_data_path}/2022/y_train_sensor_{redox_sensor}.pkl')\n",
    "    y_test.to_pickle(f'{pickle_data_path}/2022/y_test_sensor_{redox_sensor}.pkl')\n",
    "\n",
    "    X_train_scaled = custom_scaler(X_train, redox_sensor)\n",
    "    X_test_scaled = custom_scaler(X_test, redox_sensor)\n",
    "\n",
    "    X_train_scaled.to_pickle(f'{pickle_data_path}/2022/Scaled/X_train_scaled_sensor_{redox_sensor}.pkl')\n",
    "    X_test_scaled.to_pickle(f'{pickle_data_path}/2022/Scaled/X_test_scaled_sensor_{redox_sensor}.pkl')"
   ]
  },
  {
   "cell_type": "markdown",
   "metadata": {},
   "source": [
    "## 2023 Testing"
   ]
  },
  {
   "cell_type": "code",
   "execution_count": 8,
   "metadata": {},
   "outputs": [],
   "source": [
    "for redox_sensor in redox_sensors:\n",
    "    X_2023 = get_X(full_data, redox_sensor, True)\n",
    "    X.to_pickle(f'{pickle_data_path}/2023/sensor_{redox_sensor}.pkl')"
   ]
  },
  {
   "cell_type": "markdown",
   "metadata": {},
   "source": [
    "## Redox error flag counts in training and testing data"
   ]
  },
  {
   "cell_type": "code",
   "execution_count": 9,
   "metadata": {},
   "outputs": [
    {
     "name": "stdout",
     "output_type": "stream",
     "text": [
      "Sensor 1: \n",
      "\tTraining_X: 2494\n",
      "\tTraining_Y: 2494\n",
      "\tTesting_X: 1069\n",
      "\tTesting_Y: 1069\n",
      "\tPercentage in testing: 0.4286287089013633\n",
      "\n",
      "Sensor 2: \n",
      "\tTraining_X: 7281\n",
      "\tTraining_Y: 7281\n",
      "\tTesting_X: 3120\n",
      "\tTesting_Y: 3120\n",
      "\tPercentage in testing: 0.4285125669550886\n",
      "\n",
      "Sensor 3: \n",
      "\tTraining_X: 7295\n",
      "\tTraining_Y: 7295\n",
      "\tTesting_X: 3126\n",
      "\tTesting_Y: 3126\n",
      "\tPercentage in testing: 0.4285126799177519\n",
      "\n",
      "Sensor 4: \n",
      "\tTraining_X: 7295\n",
      "\tTraining_Y: 7295\n",
      "\tTesting_X: 3126\n",
      "\tTesting_Y: 3126\n",
      "\tPercentage in testing: 0.4285126799177519\n",
      "\n",
      "Sensor 5: \n",
      "\tTraining_X: 7295\n",
      "\tTraining_Y: 7295\n",
      "\tTesting_X: 3126\n",
      "\tTesting_Y: 3126\n",
      "\tPercentage in testing: 0.4285126799177519\n",
      "\n"
     ]
    }
   ],
   "source": [
    "for sensor in redox_sensors:\n",
    "    X_train = f'{pickle_data_path}/2022/X_train_sensor_{sensor}.pkl'\n",
    "    train_X = pickle.load(open(X_train, 'rb'))\n",
    "    training_X = len(train_X[train_X[f'Redox_error_flag({sensor})']==True])\n",
    "\n",
    "    y_train = f'{pickle_data_path}/2022/y_train_sensor_{sensor}.pkl'\n",
    "    train_y = pickle.load(open(y_train, 'rb'))\n",
    "    Training_y = len(train_y[train_y[f'Redox_error_flag({sensor})']==True])\n",
    "\n",
    "    X_test = f'{pickle_data_path}/2022/X_test_sensor_{sensor}.pkl'\n",
    "    test_X = pickle.load(open(X_test, 'rb'))\n",
    "    testing_X = len(test_X[test_X[f'Redox_error_flag({sensor})']==True])\n",
    "\n",
    "    y_test = f'{pickle_data_path}/2022/y_test_sensor_{sensor}.pkl'\n",
    "    test_y = pickle.load(open(y_test, 'rb'))\n",
    "    testing_y = len(test_y[test_y[f'Redox_error_flag({sensor})']==True])\n",
    "\n",
    "    print(f'Sensor {sensor}: \\n\\tTraining_X: {training_X}\\n\\tTraining_Y: {Training_y}\\n\\tTesting_X: {testing_X}\\n\\tTesting_Y: {testing_y}\\n\\tPercentage in testing: {testing_X/training_X}\\n')"
   ]
  }
 ],
 "metadata": {
  "kernelspec": {
   "display_name": "Python 3",
   "language": "python",
   "name": "python3"
  },
  "language_info": {
   "codemirror_mode": {
    "name": "ipython",
    "version": 3
   },
   "file_extension": ".py",
   "mimetype": "text/x-python",
   "name": "python",
   "nbconvert_exporter": "python",
   "pygments_lexer": "ipython3",
   "version": "3.10.12"
  }
 },
 "nbformat": 4,
 "nbformat_minor": 2
}
