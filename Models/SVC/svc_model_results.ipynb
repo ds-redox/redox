{
 "cells": [
  {
   "cell_type": "code",
   "execution_count": 1,
   "metadata": {},
   "outputs": [],
   "source": [
    "from sklearn.svm import SVC\n",
    "from sklearn.metrics import confusion_matrix\n",
    "import seaborn as sns\n",
    "import pandas as pd\n",
    "import numpy as np\n",
    "import pickle\n",
    "import matplotlib.pyplot as plt"
   ]
  },
  {
   "cell_type": "code",
   "execution_count": 2,
   "metadata": {},
   "outputs": [],
   "source": [
    "wavelet_data = '../../Data/Training/wavelet_pickle_data'\n",
    "sensors = list(range(1,6))"
   ]
  },
  {
   "cell_type": "markdown",
   "metadata": {},
   "source": [
    "# Load Full data"
   ]
  },
  {
   "cell_type": "code",
   "execution_count": 3,
   "metadata": {},
   "outputs": [],
   "source": [
    "# Main folders\n",
    "folder_2022 = f'{wavelet_data}/2022'\n",
    "scaled_2022 = f'{folder_2022}/Scaled'\n",
    "\n",
    "# 2022 Folder\n",
    "X_train_scaled_2022_folder = f'{scaled_2022}/X_train_scaled.pkl'\n",
    "X_test_scaled_2022_folder = f'{scaled_2022}/X_test_scaled.pkl'\n",
    "X_test_2022_folder = f'{folder_2022}/X_test.pkl'\n",
    "y_train_2022_folder = f'{folder_2022}/y_train.pkl'\n",
    "y_test_2022_folder = f'{folder_2022}/y_test.pkl'\n",
    "\n",
    "# 2022 data\n",
    "X_train_scaled_2022 = pd.read_pickle(open(X_train_scaled_2022_folder, 'rb'))\n",
    "X_test_scaled_2022 = pd.read_pickle(open(X_test_scaled_2022_folder, 'rb'))\n",
    "X_test_2022 = pd.read_pickle(open(X_test_2022_folder, 'rb'))\n",
    "y_train_2022 = pd.read_pickle(open(y_train_2022_folder, 'rb'))\n",
    "y_test_2022 = pd.read_pickle(open(y_test_2022_folder, 'rb'))\n",
    "\n",
    "# 2023 folders\n",
    "test_scaled_2023_folder = f'{wavelet_data}/2023/Scaled/test_scaled.pkl'\n",
    "test_2023_folder = f'{wavelet_data}/2023/test.pkl'\n",
    "\n",
    "# 2023 data\n",
    "test_scaled_2023 = pd.read_pickle(open(test_scaled_2023_folder, 'rb'))\n",
    "test_2023 = pd.read_pickle(open(test_2023_folder, 'rb'))"
   ]
  },
  {
   "cell_type": "markdown",
   "metadata": {},
   "source": [
    "# Load sensor data"
   ]
  },
  {
   "cell_type": "code",
   "execution_count": 4,
   "metadata": {},
   "outputs": [],
   "source": [
    "sensor_data = dict()\n",
    "\n",
    "# Main folders\n",
    "folder_2022_sensors = f'{wavelet_data}/2022_sensors'\n",
    "scaled_2022_sensors = f'{folder_2022_sensors}/Scaled'\n",
    "\n",
    "for sensor in sensors:\n",
    "    # 2022 sensors folder\n",
    "    X_train_scaled_2022_sensor_folder = f'{scaled_2022_sensors}/X_train_scaled_sensor_{sensor}.pkl'\n",
    "    X_test_scaled_2022_sensor_folder = f'{scaled_2022_sensors}/X_test_scaled_sensor_{sensor}.pkl'\n",
    "    X_test_2022_sensor_folder = f'{folder_2022_sensors}/X_test_sensor_{sensor}.pkl'\n",
    "    y_train_2022_sensor_folder = f'{folder_2022_sensors}/y_train_sensor_{sensor}.pkl'\n",
    "    y_test_2022_sensor_folder = f'{folder_2022_sensors}/y_test_sensor_{sensor}.pkl'\n",
    "\n",
    "    # 2022 sensors data\n",
    "    X_train_scaled_2022_sensor = pd.read_pickle(open(X_train_scaled_2022_sensor_folder, 'rb'))\n",
    "    X_test_scaled_2022_sensor = pd.read_pickle(open(X_test_scaled_2022_sensor_folder, 'rb'))\n",
    "    X_test_2022_sensor = pd.read_pickle(open(X_test_2022_sensor_folder, 'rb'))\n",
    "    y_train_2022_sensor = pd.read_pickle(open(y_train_2022_sensor_folder, 'rb'))\n",
    "    y_test_2022_sensor = pd.read_pickle(open(y_test_2022_sensor_folder, 'rb'))\n",
    "\n",
    "    # 2023 sensors folders\n",
    "    test_scaled_2023_sensor_folder = f'{wavelet_data}/2023_sensors/Scaled/test_scaled_sensor_{sensor}.pkl'\n",
    "    test_2023_sensor_folder = f'{wavelet_data}/2023_sensors/test_sensor_{sensor}.pkl'\n",
    "\n",
    "    # 2023 sensors data\n",
    "    test_scaled_2023_sensor = pd.read_pickle(open(test_scaled_2023_sensor_folder, 'rb'))\n",
    "    test_2023_sensor = pd.read_pickle(open(test_2023_sensor_folder, 'rb'))\n",
    "\n",
    "    sensor_data[f'sensor_{sensor}'] = {\n",
    "        \"X_train_scaled\": X_train_scaled_2022_sensor,\n",
    "        \"X_test_scaled\": X_test_scaled_2022_sensor,\n",
    "        \"X_test\": X_test_2022_sensor,\n",
    "        \"y_train\": y_train_2022_sensor,\n",
    "        \"y_test\": y_test_2022_sensor,\n",
    "        \"test_scaled_2023\": test_scaled_2023_sensor,\n",
    "        \"test_2023\": test_2023_sensor\n",
    "    }"
   ]
  },
  {
   "cell_type": "markdown",
   "metadata": {},
   "source": [
    "# Model training"
   ]
  },
  {
   "cell_type": "markdown",
   "metadata": {},
   "source": [
    "### Training helper functions"
   ]
  },
  {
   "cell_type": "code",
   "execution_count": null,
   "metadata": {},
   "outputs": [],
   "source": [
    "# Columns for full data training\n",
    "removable_full_columns = ['Redox_error_flag', 'pit_number', 'TIMESTAMP']\n",
    "top_10_features = ['Wave_period_1.5(5)', 'Wave_period_1.9(5)', 'Wave_period_2.5(5)', 'Redox_Avg(2)_sigma_f_24', 'Redox_Avg(3)_sigma_b_24',\n",
    "                   'Redox_Avg(3)_sigma_f_24', 'Redox_Avg(4)_sigma_b_24', 'Redox_Avg(4)_sigma_f_24', 'Redox_Avg(5)_sigma_b_24', 'Redox_Avg(5)_sigma_f_24']\n",
    "full_wavelet_columns = ['Wave_period_0.5(1)', 'Wave_period_0.7(1)', 'Wave_period_0.9(1)', 'Wave_period_1.1(1)', 'Wave_period_1.5(1)', 'Wave_period_1.9(1)', 'Wave_period_2.5(1)', 'Wave_period_3.3(1)', 'Wave_period_4.4(1)',\n",
    "                        'Wave_period_0.5(2)', 'Wave_period_0.7(2)', 'Wave_period_0.9(2)', 'Wave_period_1.1(2)', 'Wave_period_1.5(2)', 'Wave_period_1.9(2)', 'Wave_period_2.5(2)', 'Wave_period_3.3(2)', 'Wave_period_4.4(2)',\n",
    "                        'Wave_period_0.5(3)', 'Wave_period_0.7(3)', 'Wave_period_0.9(3)', 'Wave_period_1.1(3)', 'Wave_period_1.5(3)', 'Wave_period_1.9(3)', 'Wave_period_2.5(3)', 'Wave_period_3.3(3)', 'Wave_period_4.4(3)',\n",
    "                        'Wave_period_0.5(4)', 'Wave_period_0.7(4)', 'Wave_period_0.9(4)', 'Wave_period_1.1(4)', 'Wave_period_1.5(4)', 'Wave_period_1.9(4)', 'Wave_period_2.5(4)', 'Wave_period_3.3(4)', 'Wave_period_4.4(4)',\n",
    "                        'Wave_period_0.5(5)', 'Wave_period_0.7(5)', 'Wave_period_0.9(5)', 'Wave_period_1.1(5)', 'Wave_period_1.5(5)', 'Wave_period_1.9(5)', 'Wave_period_2.5(5)', 'Wave_period_3.3(5)', 'Wave_period_4.4(5)']\n",
    "\n",
    "# Columns for sensor data training\n",
    "def get_removable_sensor_columns(sensor):\n",
    "    return [f'Redox_error_flag({sensor})', 'Redox_error_flag', 'pit_number', 'TIMESTAMP']\n",
    "def get_wavelet_columns(sensor):\n",
    "    return [f'Wave_period_0.5({sensor})', f'Wave_period_0.7({sensor})', f'Wave_period_0.9({sensor})', f'Wave_period_1.1({sensor})', f'Wave_period_1.5({sensor})',\n",
    "            f'Wave_period_1.9({sensor})',f'Wave_period_2.5({sensor})', f'Wave_period_3.3({sensor})', f'Wave_period_4.4({sensor})']\n",
    "top_10_sensor_features = {\n",
    "    \"sensor_1\": ['Water_level_Avg', 'Redox_Avg(1)_sigma_b_24', 'Redox_Avg(1)_sigma_f_24', 'Redox_Avg(1)_sigma_f_12', 'Wave_period_0.5(1)',\n",
    "                 'Wave_period_0.7(1)', 'Wave_period_0.9(1)', 'Wave_period_1.1(1)', 'Wave_period_1.5(1)', 'Wave_period_1.9(1)'],\n",
    "    \"sensor_2\": ['Redox_Avg(2)', 'Redox_Avg(2)_sigma_b_24', 'Redox_Avg(2)_sigma_f_24', 'Redox_Avg(2)_sigma_b_12', 'Redox_Avg(2)_sigma_f_12',\n",
    "                 'Wave_period_0.5(2)', 'Wave_period_0.7(2)', 'Wave_period_0.9(2)', 'Wave_period_1.1(2)', 'Wave_period_1.5(2)'],\n",
    "    \"sensor_3\": ['Redox_Avg(3)_sigma_b_24', 'Redox_Avg(3)_sigma_f_24', 'Redox_Avg(3)_sigma_b_12', 'Redox_Avg(3)_sigma_f_12', 'Wave_period_0.5(3)',\n",
    "                 'Wave_period_0.7(3)', 'Wave_period_0.9(3)', 'Wave_period_1.1(3)', 'Wave_period_1.5(3)', 'Wave_period_1.9(3)'],\n",
    "    \"sensor_4\": ['Redox_Avg(4)_sigma_b_24', 'Redox_Avg(4)_sigma_f_24', 'Redox_Avg(4)_sigma_b_12', 'Redox_Avg(4)_sigma_f_12', 'Wave_period_0.7(4)',\n",
    "                 'Wave_period_0.9(4)', 'Wave_period_1.1(4)', 'Wave_period_1.5(4)', 'Wave_period_1.9(4)', 'Wave_period_2.5(4)'],\n",
    "    \"sensor_5\": ['Redox_Avg(5)_sigma_b_24', 'Redox_Avg(5)_sigma_f_24', 'Redox_Avg(5)_sigma_b_12', 'Redox_Avg(5)_sigma_f_12', 'Wave_period_0.7(5)',\n",
    "                 'Wave_period_0.9(5)', 'Wave_period_1.1(5)', 'Wave_period_1.5(5)', 'Wave_period_1.9(5)', 'Wave_period_2.5(5)']\n",
    "}\n",
    "\n",
    "# Random state\n",
    "rs = 0\n",
    "\n",
    "# Best model parameters\n",
    "best_params = dict()\n",
    "best_params['2022_full'] = {\"degree\": 6, \"C\": 7}\n",
    "best_params['2022_fs'] = {\"degree\": 7, \"C\": 6}\n",
    "best_params['2022_wavelet'] = {\"degree\": 3, \"C\": 7}\n",
    "best_params['sensor_1'] = {\"degree\": 7, \"C\": 5}\n",
    "best_params['sensor_2'] = {\"degree\": 7, \"C\": 7}\n",
    "best_params['sensor_3'] = {\"degree\": 7, \"C\": 7}\n",
    "best_params['sensor_4'] = {\"degree\": 7, \"C\": 7}\n",
    "best_params['sensor_5'] = {\"degree\": 7, \"C\": 5}\n",
    "best_params['sensor_1_fs'] = {\"degree\": 7, \"C\": 5}\n",
    "best_params['sensor_2_fs'] = {\"degree\": 7, \"C\": 7}\n",
    "best_params['sensor_3_fs'] = {\"degree\": 7, \"C\": 7}\n",
    "best_params['sensor_4_fs'] = {\"degree\": 7, \"C\": 7}\n",
    "best_params['sensor_5_fs'] = {\"degree\": 7, \"C\": 5}\n",
    "best_params['sensor_1_wavelet'] = {\"degree\": 3, \"C\": 7}\n",
    "best_params['sensor_2_wavelet'] = {\"degree\": 3, \"C\": 7}\n",
    "best_params['sensor_3_wavelet'] = {\"degree\": 3, \"C\": 7}\n",
    "best_params['sensor_4_wavelet'] = {\"degree\": 3, \"C\": 7}\n",
    "best_params['sensor_5_wavelet'] = {\"degree\": 3, \"C\": 7}\n",
    "\n",
    "# Sensor models\n",
    "sensor_models = dict()"
   ]
  },
  {
   "cell_type": "markdown",
   "metadata": {},
   "source": [
    "### 2022 full"
   ]
  },
  {
   "cell_type": "code",
   "execution_count": null,
   "metadata": {},
   "outputs": [],
   "source": [
    "svc_2022_full = SVC(kernel=\"poly\", random_state=rs, degree=best_params['2022_full']['degree'], C=best_params['2022_full']['C'])\n",
    "svc_2022_full.fit(X_train_scaled_2022.loc[:, ~X_train_scaled_2022.columns.isin(removable_full_columns)], np.ravel(y_train_2022))"
   ]
  },
  {
   "cell_type": "markdown",
   "metadata": {},
   "source": [
    "### 2022 feature selection"
   ]
  },
  {
   "cell_type": "code",
   "execution_count": null,
   "metadata": {},
   "outputs": [],
   "source": [
    "svc_2022_fs = SVC(kernel=\"poly\", random_state=rs, degree=best_params['2022_fs']['degree'], C=best_params['2022_fs']['C'])\n",
    "svc_2022_fs.fit(X_train_scaled_2022.loc[:, top_10_features], np.ravel(y_train_2022))"
   ]
  },
  {
   "cell_type": "markdown",
   "metadata": {},
   "source": [
    "### 2022 wavelet"
   ]
  },
  {
   "cell_type": "code",
   "execution_count": null,
   "metadata": {},
   "outputs": [],
   "source": [
    "svc_2022_wavelet = SVC(kernel=\"poly\", random_state=rs, degree=best_params['2022_wavelet']['degree'], C=best_params['2022_wavelet']['C'])\n",
    "svc_2022_wavelet.fit(X_train_scaled_2022.loc[:, full_wavelet_columns], np.ravel(y_train_2022))"
   ]
  },
  {
   "cell_type": "markdown",
   "metadata": {},
   "source": [
    "### 2022 sensor"
   ]
  },
  {
   "cell_type": "code",
   "execution_count": null,
   "metadata": {},
   "outputs": [],
   "source": [
    "for sensor in sensors:\n",
    "    scaled_training_data = sensor_data[f'sensor_{sensor}']['X_train_scaled']\n",
    "    training_target_data = sensor_data[f'sensor_{sensor}']['y_train']\n",
    "    removable_sensors_columns = get_removable_sensor_columns(sensor)\n",
    "\n",
    "    svc_sensor = SVC(kernel=\"poly\", random_state=rs, degree=best_params[f'sensor_{sensor}']['degree'], C=best_params[f'sensor_{sensor}']['C'])\n",
    "    svc_sensor.fit(scaled_training_data.loc[:, ~scaled_training_data.columns.isin(removable_sensors_columns)], np.ravel(training_target_data))\n",
    "\n",
    "    sensor_models[f'svc_sensor_{sensor}'] = svc_sensor"
   ]
  },
  {
   "cell_type": "markdown",
   "metadata": {},
   "source": [
    "### 2022 sensor feature selection"
   ]
  },
  {
   "cell_type": "code",
   "execution_count": null,
   "metadata": {},
   "outputs": [],
   "source": [
    "for sensor in sensors:\n",
    "    scaled_training_data = sensor_data[f'sensor_{sensor}']['X_train_scaled']\n",
    "    training_target_data = sensor_data[f'sensor_{sensor}']['y_train']\n",
    "    fs_columns = top_10_sensor_features[f'sensor_{sensor}']\n",
    "\n",
    "    svc_fs = SVC(kernel=\"poly\", random_state=rs, degree=best_params[f'sensor_{sensor}_fs']['degree'], C=best_params[f'sensor_{sensor}_fs']['C'])\n",
    "    svc_fs.fit(scaled_training_data.loc[:, fs_columns], np.ravel(training_target_data))\n",
    "\n",
    "    sensor_models[f'svc_fs_sensor_{sensor}'] = svc_sensor"
   ]
  },
  {
   "cell_type": "markdown",
   "metadata": {},
   "source": [
    "### 2022 sensor wavelet"
   ]
  },
  {
   "cell_type": "code",
   "execution_count": null,
   "metadata": {},
   "outputs": [],
   "source": [
    "for sensor in sensors:\n",
    "    scaled_training_data = sensor_data[f'sensor_{sensor}']['X_train_scaled']\n",
    "    training_target_data = sensor_data[f'sensor_{sensor}']['y_train']\n",
    "    sensor_wavelet_columns = get_wavelet_columns(sensor)\n",
    "\n",
    "    svc_sensor_wavelet = SVC(kernel=\"poly\", random_state=rs, degree=best_params[f'sensor_{sensor}_wavelet']['degree'], C=best_params[f'sensor_{sensor}_wavelet']['C'])\n",
    "    svc_sensor_wavelet.fit(scaled_training_data.loc[:, sensor_wavelet_columns], np.ravel(training_target_data))\n",
    "\n",
    "    sensor_models[f'svc_wavelet_sensor_{sensor}'] = svc_sensor_wavelet"
   ]
  },
  {
   "cell_type": "markdown",
   "metadata": {},
   "source": [
    "# Get results"
   ]
  },
  {
   "cell_type": "markdown",
   "metadata": {},
   "source": [
    "### Result helper functions"
   ]
  },
  {
   "cell_type": "code",
   "execution_count": null,
   "metadata": {},
   "outputs": [],
   "source": [
    "def get_results_df(test_X, test_y, pred, sensor=0):\n",
    "    result = test_X.copy()\n",
    "    result['pred'] = pred\n",
    "    if sensor > 0:\n",
    "        result[f'Redox_error_flag({sensor})'] = test_y[f'Redox_error_flag({sensor})']\n",
    "        result['true_pos'] = np.where((result[f'Redox_error_flag({sensor})']==True) & (result['pred']==True), True, False)\n",
    "        result['false_pos'] = np.where((result[f'Redox_error_flag({sensor})']==False) & (result['pred']==True), True, False)\n",
    "        result['false_neg'] = np.where((result[f'Redox_error_flag({sensor})']==True) & (result['pred']==False), True, False)\n",
    "    else:\n",
    "        result['Redox_error_flag'] = test_y['Redox_error_flag']\n",
    "        result['true_pos'] = np.where((result['Redox_error_flag']==True) & (result['pred']==True), True, False)\n",
    "        result['false_pos'] = np.where((result['Redox_error_flag']==False) & (result['pred']==True), True, False)\n",
    "        result['false_neg'] = np.where((result['Redox_error_flag']==True) & (result['pred']==False), True, False)\n",
    "    result = result.sort_index()\n",
    "    return result\n",
    "\n",
    "def get_results_df_2023(test_data, pred):\n",
    "    result = test_data.copy()\n",
    "    result['pred'] = pred\n",
    "    result = result.sort_index()\n",
    "    return result"
   ]
  },
  {
   "cell_type": "code",
   "execution_count": null,
   "metadata": {},
   "outputs": [],
   "source": [
    "# 2022 model results with all columns\n",
    "predictions_2022_full = svc_2022_full.predict(X_test_scaled_2022.loc[:, ~X_test_scaled_2022.columns.isin(removable_full_columns)])\n",
    "predictions_2023_full = svc_2022_full.predict(test_scaled_2023.loc[:, ~test_scaled_2023.columns.isin(removable_full_columns)])\n",
    "cm_2022_full = confusion_matrix(y_test_2022['Redox_error_flag'], predictions_2022_full)\n",
    "\n",
    "# 2022 model results with feature selection\n",
    "predictions_2022_fs = svc_2022_fs.predict(X_test_scaled_2022.loc[:, top_10_features])\n",
    "predictions_2023_fs = svc_2022_fs.predict(test_scaled_2023.loc[:, top_10_features])\n",
    "cm_2022_fs = confusion_matrix(y_test_2022['Redox_error_flag'], predictions_2022_fs)\n",
    "\n",
    "# 2022 model results with wavelet columns\n",
    "predictions_2022_wavelet = svc_2022_wavelet.predict(X_test_scaled_2022.loc[:, full_wavelet_columns])\n",
    "predictions_2023_wavelet = svc_2022_wavelet.predict(test_scaled_2023.loc[:, full_wavelet_columns])\n",
    "cm_2022_wavelet = confusion_matrix(y_test_2022['Redox_error_flag'], predictions_2022_wavelet)\n",
    "\n",
    "sensor_predictions = dict()\n",
    "sensor_cm = dict()\n",
    "\n",
    "# 2022 sensor model results\n",
    "for sensor in sensors:\n",
    "    scaled_testing_data = sensor_data[f'sensor_{sensor}']['X_test_scaled']\n",
    "    scaled_testing_data_2023 = sensor_data[f'sensor_{sensor}']['test_scaled_2023']\n",
    "    true_y = sensor_data[f'sensor_{sensor}']['y_test']\n",
    "\n",
    "    # All columns\n",
    "    removable_sensors_columns = get_removable_sensor_columns(sensor)\n",
    "    sensor_predictions[f'sensor_{sensor}_2022'] = sensor_models[f'svc_sensor_{sensor}'].predict(scaled_testing_data.loc[:, ~scaled_testing_data.columns.isin(removable_sensors_columns)])\n",
    "    sensor_predictions[f'sensor_{sensor}_2023'] = sensor_models[f'svc_sensor_{sensor}'].predict(scaled_testing_data_2023.loc[:, ~scaled_testing_data_2023.columns.isin(removable_sensors_columns)])\n",
    "    sensor_cm[f'sensor_{sensor}_2022'] = confusion_matrix(true_y['Redox_error_flag'], sensor_predictions[f'sensor_{sensor}_2022'])\n",
    "\n",
    "    # Feature selection\n",
    "    fs_columns = top_10_sensor_features[f'sensor_{sensor}']\n",
    "    sensor_predictions[f'sensor_{sensor}_2022_fs'] = sensor_models[f'svc_fs_sensor_{sensor}'].predict(scaled_testing_data.loc[:, fs_columns])\n",
    "    sensor_predictions[f'sensor_{sensor}_2023_fs'] = sensor_models[f'svc_fs_sensor_{sensor}'].predict(scaled_testing_data_2023.loc[:, fs_columns])\n",
    "    sensor_cm[f'sensor_{sensor}_2022_fs'] = confusion_matrix(true_y['Redox_error_flag'], sensor_predictions[f'sensor_{sensor}_2022_fs'])\n",
    "\n",
    "    # Wavelet columns\n",
    "    sensor_wavelet_columns = get_wavelet_columns(sensor)\n",
    "    sensor_predictions[f'sensor_{sensor}_2022_wavelet'] = sensor_models[f'svc_wavelet_sensor_{sensor}'].predict(scaled_testing_data.loc[:, sensor_wavelet_columns])\n",
    "    sensor_predictions[f'sensor_{sensor}_2023_wavelet'] = sensor_models[f'svc_wavelet_sensor_{sensor}'].predict(scaled_testing_data_2023.loc[:, sensor_wavelet_columns])\n",
    "    sensor_cm[f'sensor_{sensor}_2022_wavelet'] = confusion_matrix(true_y['Redox_error_flag'], sensor_predictions[f'sensor_{sensor}_2022_wavelet'])"
   ]
  },
  {
   "cell_type": "markdown",
   "metadata": {},
   "source": [
    "# Print results"
   ]
  },
  {
   "cell_type": "markdown",
   "metadata": {},
   "source": [
    "### Print functions"
   ]
  },
  {
   "cell_type": "code",
   "execution_count": null,
   "metadata": {},
   "outputs": [],
   "source": [
    "# Common print variables\n",
    "ncols = 1\n",
    "nrows = len(sensors)\n",
    "opacity = 0.5\n",
    "# plt.subplots_adjust(hspace=1.0)\n",
    "\n",
    "def log_false_neg_and_pos_count(results):\n",
    "    print('False positive (cyan) count: ', len(results.loc[results['false_pos']==True]))\n",
    "    print('False negative (orange) count: ', len(results.loc[results['false_neg']==True]))\n",
    "\n",
    "def plot_confusion_matrix(cm):\n",
    "    sns.heatmap(cm, annot=True, fmt='g', \n",
    "            xticklabels=['Error','Not Error'],\n",
    "            yticklabels=['Error','Not Error'])\n",
    "    plt.ylabel('Prediction',fontsize=13)\n",
    "    plt.xlabel('Actual',fontsize=13)\n",
    "    plt.title('Confusion Matrix',fontsize=17)\n",
    "    plt.show()\n",
    "\n",
    "# Full data plot functions\n",
    "def plot_results(results, title):\n",
    "    plt.figure(figsize=(35,nrows*13))\n",
    "    plt.suptitle(title, fontsize=36, y=0.95)\n",
    "\n",
    "    log_false_neg_and_pos_count(results)\n",
    "\n",
    "    for i, sensor in enumerate(sensors):\n",
    "        i += 1\n",
    "        ax = plt.subplot(nrows, ncols, i)\n",
    "        ax.set_title(f'Predictions for sensor {sensor}', fontsize = 24)\n",
    "        ax.plot(results.index.array, results[f'Redox_Avg({sensor})'], c='g', zorder=0)\n",
    "        #plt.plot(plt_results_sens_1.index.array, plt_results_sens_1[f'Matric_potential_Avg({1})'], c='magenta', zorder=0)\n",
    "        ax.scatter(results.loc[results[f'Redox_error_flag']==True].index.array, results.loc[results[f'Redox_error_flag']==True][f'Redox_Avg({sensor})'], c='r', s=35, zorder=5, alpha=opacity)\n",
    "        ax.scatter(results.loc[results['true_pos']==True].index.array, results.loc[results['true_pos']==True][f'Redox_Avg({sensor})'], c='blue', s=15, zorder=10, alpha=opacity)\n",
    "        ax.scatter(results.loc[results['false_pos']==True].index.array, results.loc[results['false_pos']==True][f'Redox_Avg({sensor})'], c='cyan', s=25, zorder=10, alpha=opacity)\n",
    "        ax.scatter(results.loc[results['false_neg']==True].index.array, results.loc[results['false_neg']==True][f'Redox_Avg({sensor})'], c='orange', s=25, zorder=10, alpha=opacity)\n",
    "\n",
    "def plot_results_2023(results, title):\n",
    "    plt.figure(figsize=(35,nrows*13))\n",
    "    plt.suptitle(title, fontsize=36, y=0.95)\n",
    "\n",
    "    for i, sensor in enumerate(sensors):\n",
    "        i += 1\n",
    "        ax = plt.subplot(nrows, ncols, i)\n",
    "        ax.set_title(f'Predictions for sensor {sensor}', fontsize = 24)\n",
    "        ax.plot(results.index.array, results[f'Redox_Avg({sensor})'], c='g', zorder=0)\n",
    "        ax.scatter(results.loc[results[f'pred']==True].index.array, results.loc[results[f'pred']==True][f'Redox_Avg({sensor})'], c='r', s=35, zorder=5, alpha=opacity)\n",
    "\n",
    "# Sensor data plot functions\n",
    "def plot_sensor_results(results, sensor, title):\n",
    "    plt.figure(figsize=(35,13))\n",
    "    plt.suptitle(title, fontsize=36, y=0.95)\n",
    "\n",
    "    log_false_neg_and_pos_count(results)\n",
    "\n",
    "    plt.plot(results.index.array, results[f'Redox_Avg({sensor})'], c='g', zorder=0)\n",
    "    #plt.plot(plt_results_sens_1.index.array, plt_results_sens_1[f'Matric_potential_Avg({1})'], c='magenta', zorder=0)\n",
    "    plt.scatter(results.loc[results[f'Redox_error_flag({sensor})']==True].index.array, results.loc[results[f'Redox_error_flag({sensor})']==True][f'Redox_Avg({sensor})'], c='r', s=35, zorder=5)\n",
    "    plt.scatter(results.loc[results['true_pos']==True].index.array, results.loc[results['true_pos']==True][f'Redox_Avg({sensor})'], c='blue', s=15, zorder=10, alpha=opacity)\n",
    "    plt.scatter(results.loc[results['false_pos']==True].index.array, results.loc[results['false_pos']==True][f'Redox_Avg({sensor})'], c='cyan', s=25, zorder=10, alpha=opacity)\n",
    "    plt.scatter(results.loc[results['false_neg']==True].index.array, results.loc[results['false_neg']==True][f'Redox_Avg({sensor})'], c='orange', s=25, zorder=10, alpha=opacity)\n",
    "\n",
    "def plot_2023_sensor_results(results, sensor, title):\n",
    "    plt.figure(figsize=(35,13))\n",
    "    plt.suptitle(title, fontsize=36, y=0.95)\n",
    "\n",
    "    plt.plot(results.index.array, results[f'Redox_Avg({sensor})'], c='g', zorder=0)\n",
    "    plt.scatter(results.loc[results[f'pred']==True].index.array, results.loc[results[f'pred']==True][f'Redox_Avg({sensor})'], c='r', s=35, zorder=5, alpha=opacity)"
   ]
  },
  {
   "cell_type": "markdown",
   "metadata": {},
   "source": [
    "## 2022 full columns"
   ]
  },
  {
   "cell_type": "code",
   "execution_count": null,
   "metadata": {},
   "outputs": [],
   "source": [
    "full_2022_results = get_results_df(X_test_2022, y_test_2022, predictions_2022_full)\n",
    "full_2023_results = get_results_df_2023(test_2023, predictions_2023_full)\n",
    "\n",
    "plot_confusion_matrix(cm_2022_full)\n",
    "plot_results(full_2022_results, \"2022 all pits, sensors and columns\")\n",
    "plot_results_2023(full_2023_results, \"2023 all pits, sensors and columns\")"
   ]
  },
  {
   "cell_type": "markdown",
   "metadata": {},
   "source": [
    "## 2022 feature selection columns"
   ]
  },
  {
   "cell_type": "code",
   "execution_count": null,
   "metadata": {},
   "outputs": [],
   "source": [
    "fs_2022_results = get_results_df(X_test_2022, y_test_2022, predictions_2022_fs)\n",
    "fs_2023_results = get_results_df_2023(test_2023, predictions_2023_fs)\n",
    "\n",
    "plot_confusion_matrix(cm_2022_fs)\n",
    "plot_results(fs_2022_results, \"2022 all pits, sensors and top 10 columns\")\n",
    "plot_results_2023(fs_2023_results, \"2023 all pits, sensors and top 10 columns\")"
   ]
  },
  {
   "cell_type": "markdown",
   "metadata": {},
   "source": [
    "## 2022 wavelet columns"
   ]
  },
  {
   "cell_type": "code",
   "execution_count": null,
   "metadata": {},
   "outputs": [],
   "source": [
    "wavelet_2022_results = get_results_df(X_test_2022, y_test_2022, predictions_2022_wavelet)\n",
    "wavelet_2023_results = get_results_df_2023(test_2023, predictions_2023_wavelet)\n",
    "\n",
    "plot_confusion_matrix(cm_2022_wavelet)\n",
    "plot_results(wavelet_2022_results, \"2022 all pits, sensors with wavelet columns\")\n",
    "plot_results_2023(wavelet_2023_results, \"2023 all pits, sensors with wavelet columns\")"
   ]
  },
  {
   "cell_type": "markdown",
   "metadata": {},
   "source": [
    "## 2022 sensor full columns"
   ]
  },
  {
   "cell_type": "code",
   "execution_count": null,
   "metadata": {},
   "outputs": [],
   "source": [
    "for sensor in sensors:\n",
    "    testing_data_X = sensor_data[f'sensor_{sensor}']['X_test']\n",
    "    testing_data_y = sensor_data[f'sensor_{sensor}']['y_test']\n",
    "    testing_data_2023 = sensor_data[f'sensor_{sensor}']['test_2023']\n",
    "\n",
    "    sensor_results_2022 = get_results_df(testing_data_X, testing_data_y, sensor_predictions[f'sensor_{sensor}_2022'], sensor)\n",
    "    sensor_results_2023 = get_results_df_2023(testing_data_2023, sensor_predictions[f'sensor_{sensor}_2023'], sensor)\n",
    "\n",
    "    plot_confusion_matrix(sensor_cm[f'sensor_{sensor}_2022'])\n",
    "    plot_sensor_results(sensor_results_2022, sensor, f'2022 sensor {sensor} all pits and columns')\n",
    "    plot_2023_sensor_results(sensor_results_2023, sensor, f'2023 sensor {sensor} all pits and columns')"
   ]
  },
  {
   "cell_type": "markdown",
   "metadata": {},
   "source": [
    "## 2022 sensor feature selection columns"
   ]
  },
  {
   "cell_type": "code",
   "execution_count": null,
   "metadata": {},
   "outputs": [],
   "source": [
    "for sensor in sensors:\n",
    "    testing_data_X = sensor_data[f'sensor_{sensor}']['X_test']\n",
    "    testing_data_y = sensor_data[f'sensor_{sensor}']['y_test']\n",
    "    testing_data_2023 = sensor_data[f'sensor_{sensor}']['test_2023']\n",
    "\n",
    "    sensor_results_2022_fs = get_results_df(testing_data_X, testing_data_y, sensor_predictions[f'sensor_{sensor}_2022_fs'], sensor)\n",
    "    sensor_results_2023_fs = get_results_df_2023(testing_data_2023, sensor_predictions[f'sensor_{sensor}_2023_fs'], sensor)\n",
    "\n",
    "    plot_confusion_matrix(sensor_cm[f'sensor_{sensor}_2022_fs'])\n",
    "    plot_sensor_results(sensor_results_2022_fs, sensor, f'2022 sensor {sensor} all pits with top 10 columns')\n",
    "    plot_2023_sensor_results(sensor_results_2023_fs, sensor, f'2023 sensor {sensor} all pits with top 10 columns')"
   ]
  },
  {
   "cell_type": "markdown",
   "metadata": {},
   "source": [
    "## 2022 sensor wavelet columns"
   ]
  },
  {
   "cell_type": "code",
   "execution_count": null,
   "metadata": {},
   "outputs": [],
   "source": [
    "for sensor in sensors:\n",
    "    testing_data_X = sensor_data[f'sensor_{sensor}']['X_test']\n",
    "    testing_data_y = sensor_data[f'sensor_{sensor}']['y_test']\n",
    "    testing_data_2023 = sensor_data[f'sensor_{sensor}']['test_2023']\n",
    "\n",
    "    sensor_results_2022_wavelet = get_results_df(testing_data_X, testing_data_y, sensor_predictions[f'sensor_{sensor}_2022_wavelet'], sensor)\n",
    "    sensor_results_2023_wavelet = get_results_df_2023(testing_data_2023, sensor_predictions[f'sensor_{sensor}_2023_wavelet'], sensor)\n",
    "\n",
    "    plot_confusion_matrix(sensor_cm[f'sensor_{sensor}_2022_wavelet'])\n",
    "    plot_sensor_results(sensor_results_2022_wavelet, sensor, f'2022 sensor {sensor} all pits with wavelet columns')\n",
    "    plot_2023_sensor_results(sensor_results_2023_wavelet, sensor, f'2023 sensor {sensor} all pits with wavelet columns')"
   ]
  }
 ],
 "metadata": {
  "kernelspec": {
   "display_name": "Python 3",
   "language": "python",
   "name": "python3"
  },
  "language_info": {
   "codemirror_mode": {
    "name": "ipython",
    "version": 3
   },
   "file_extension": ".py",
   "mimetype": "text/x-python",
   "name": "python",
   "nbconvert_exporter": "python",
   "pygments_lexer": "ipython3",
   "version": "3.10.12"
  }
 },
 "nbformat": 4,
 "nbformat_minor": 2
}
