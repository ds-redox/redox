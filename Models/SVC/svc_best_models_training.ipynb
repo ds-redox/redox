{
 "cells": [
  {
   "cell_type": "code",
   "execution_count": 1,
   "metadata": {},
   "outputs": [],
   "source": [
    "from sklearn.svm import SVC\n",
    "import pandas as pd\n",
    "import numpy as np\n",
    "import pickle"
   ]
  },
  {
   "cell_type": "code",
   "execution_count": 2,
   "metadata": {},
   "outputs": [],
   "source": [
    "wavelet_data = '../../Data/Training/wavelet_pickle_data'\n",
    "sensors = list(range(1,6))"
   ]
  },
  {
   "cell_type": "markdown",
   "metadata": {},
   "source": [
    "# Load Full data"
   ]
  },
  {
   "cell_type": "code",
   "execution_count": 3,
   "metadata": {},
   "outputs": [],
   "source": [
    "# Main folders\n",
    "folder_2022 = f'{wavelet_data}/2022'\n",
    "scaled_2022 = f'{folder_2022}/Scaled'\n",
    "\n",
    "# 2022 Folder\n",
    "X_train_scaled_2022_folder = f'{scaled_2022}/X_train_scaled.pkl'\n",
    "y_train_2022_folder = f'{folder_2022}/y_train.pkl'\n",
    "\n",
    "# 2022 data\n",
    "X_train_scaled_2022 = pd.read_pickle(open(X_train_scaled_2022_folder, 'rb'))\n",
    "y_train_2022 = pd.read_pickle(open(y_train_2022_folder, 'rb'))"
   ]
  },
  {
   "cell_type": "markdown",
   "metadata": {},
   "source": [
    "# Load sensor data"
   ]
  },
  {
   "cell_type": "code",
   "execution_count": 4,
   "metadata": {},
   "outputs": [],
   "source": [
    "sensor_data = dict()\n",
    "\n",
    "# Main folders\n",
    "folder_2022_sensors = f'{wavelet_data}/2022_sensors'\n",
    "scaled_2022_sensors = f'{folder_2022_sensors}/Scaled'\n",
    "\n",
    "for sensor in sensors:\n",
    "    # 2022 sensors folder\n",
    "    X_train_scaled_2022_sensor_folder = f'{scaled_2022_sensors}/X_train_scaled_sensor_{sensor}.pkl'\n",
    "    y_train_2022_sensor_folder = f'{folder_2022_sensors}/y_train_sensor_{sensor}.pkl'\n",
    "\n",
    "    # 2022 sensors data\n",
    "    X_train_scaled_2022_sensor = pd.read_pickle(open(X_train_scaled_2022_sensor_folder, 'rb'))\n",
    "    y_train_2022_sensor = pd.read_pickle(open(y_train_2022_sensor_folder, 'rb'))\n",
    "\n",
    "    sensor_data[f'sensor_{sensor}'] = {\n",
    "        \"X_train_scaled\": X_train_scaled_2022_sensor,\n",
    "        \"y_train\": y_train_2022_sensor,\n",
    "    }"
   ]
  },
  {
   "cell_type": "markdown",
   "metadata": {},
   "source": [
    "# Model training"
   ]
  },
  {
   "cell_type": "markdown",
   "metadata": {},
   "source": [
    "### Training helper functions"
   ]
  },
  {
   "cell_type": "code",
   "execution_count": 5,
   "metadata": {},
   "outputs": [],
   "source": [
    "# Columns for full data training\n",
    "removable_full_columns = ['Redox_error_flag', 'pit_number', 'TIMESTAMP']\n",
    "top_10_features = ['Wave_period_1.5(5)', 'Wave_period_1.9(5)', 'Wave_period_2.5(5)', 'Redox_Avg(2)_sigma_f_24', 'Redox_Avg(3)_sigma_b_24',\n",
    "                   'Redox_Avg(3)_sigma_f_24', 'Redox_Avg(4)_sigma_b_24', 'Redox_Avg(4)_sigma_f_24', 'Redox_Avg(5)_sigma_b_24', 'Redox_Avg(5)_sigma_f_24']\n",
    "full_wavelet_columns = ['Wave_period_0.5(1)', 'Wave_period_0.7(1)', 'Wave_period_0.9(1)', 'Wave_period_1.1(1)', 'Wave_period_1.5(1)', 'Wave_period_1.9(1)', 'Wave_period_2.5(1)', 'Wave_period_3.3(1)', 'Wave_period_4.4(1)',\n",
    "                        'Wave_period_0.5(2)', 'Wave_period_0.7(2)', 'Wave_period_0.9(2)', 'Wave_period_1.1(2)', 'Wave_period_1.5(2)', 'Wave_period_1.9(2)', 'Wave_period_2.5(2)', 'Wave_period_3.3(2)', 'Wave_period_4.4(2)',\n",
    "                        'Wave_period_0.5(3)', 'Wave_period_0.7(3)', 'Wave_period_0.9(3)', 'Wave_period_1.1(3)', 'Wave_period_1.5(3)', 'Wave_period_1.9(3)', 'Wave_period_2.5(3)', 'Wave_period_3.3(3)', 'Wave_period_4.4(3)',\n",
    "                        'Wave_period_0.5(4)', 'Wave_period_0.7(4)', 'Wave_period_0.9(4)', 'Wave_period_1.1(4)', 'Wave_period_1.5(4)', 'Wave_period_1.9(4)', 'Wave_period_2.5(4)', 'Wave_period_3.3(4)', 'Wave_period_4.4(4)',\n",
    "                        'Wave_period_0.5(5)', 'Wave_period_0.7(5)', 'Wave_period_0.9(5)', 'Wave_period_1.1(5)', 'Wave_period_1.5(5)', 'Wave_period_1.9(5)', 'Wave_period_2.5(5)', 'Wave_period_3.3(5)', 'Wave_period_4.4(5)']\n",
    "\n",
    "# Columns for sensor data training\n",
    "def get_removable_sensor_columns(sensor):\n",
    "    return [f'Redox_error_flag({sensor})', 'Redox_error_flag', 'pit_number', 'TIMESTAMP']\n",
    "\n",
    "top_10_sensor_features = {\n",
    "    \"sensor_1\": ['Water_level_Avg', 'Redox_Avg(1)_sigma_b_24', 'Redox_Avg(1)_sigma_f_24', 'Redox_Avg(1)_sigma_f_12', 'Wave_period_0.5(1)',\n",
    "                 'Wave_period_0.7(1)', 'Wave_period_0.9(1)', 'Wave_period_1.1(1)', 'Wave_period_1.5(1)', 'Wave_period_1.9(1)'],\n",
    "    \"sensor_2\": ['Redox_Avg(2)', 'Redox_Avg(2)_sigma_b_24', 'Redox_Avg(2)_sigma_f_24', 'Redox_Avg(2)_sigma_b_12', 'Redox_Avg(2)_sigma_f_12',\n",
    "                 'Wave_period_0.5(2)', 'Wave_period_0.7(2)', 'Wave_period_0.9(2)', 'Wave_period_1.1(2)', 'Wave_period_1.5(2)'],\n",
    "    \"sensor_3\": ['Redox_Avg(3)_sigma_b_24', 'Redox_Avg(3)_sigma_f_24', 'Redox_Avg(3)_sigma_b_12', 'Redox_Avg(3)_sigma_f_12', 'Wave_period_0.5(3)',\n",
    "                 'Wave_period_0.7(3)', 'Wave_period_0.9(3)', 'Wave_period_1.1(3)', 'Wave_period_1.5(3)', 'Wave_period_1.9(3)'],\n",
    "    \"sensor_4\": ['Redox_Avg(4)_sigma_b_24', 'Redox_Avg(4)_sigma_f_24', 'Redox_Avg(4)_sigma_b_12', 'Redox_Avg(4)_sigma_f_12', 'Wave_period_0.7(4)',\n",
    "                 'Wave_period_0.9(4)', 'Wave_period_1.1(4)', 'Wave_period_1.5(4)', 'Wave_period_1.9(4)', 'Wave_period_2.5(4)'],\n",
    "    \"sensor_5\": ['Redox_Avg(5)_sigma_b_24', 'Redox_Avg(5)_sigma_f_24', 'Redox_Avg(5)_sigma_b_12', 'Redox_Avg(5)_sigma_f_12', 'Wave_period_0.7(5)',\n",
    "                 'Wave_period_0.9(5)', 'Wave_period_1.1(5)', 'Wave_period_1.5(5)', 'Wave_period_1.9(5)', 'Wave_period_2.5(5)']\n",
    "}\n",
    "\n",
    "# Random state\n",
    "rs = 0\n",
    "\n",
    "# Best model parameters\n",
    "best_params = dict()\n",
    "best_params['2022_full'] = {\"degree\": 6, \"C\": 7}\n",
    "best_params['2022_fs'] = {\"degree\": 7, \"C\": 6}\n",
    "best_params['2022_wavelet'] = {\"degree\": 3, \"C\": 7}\n",
    "best_params['sensor_1'] = {\"degree\": 7, \"C\": 5}\n",
    "best_params['sensor_2'] = {\"degree\": 7, \"C\": 7}\n",
    "best_params['sensor_3'] = {\"degree\": 7, \"C\": 7}\n",
    "best_params['sensor_4'] = {\"degree\": 7, \"C\": 7}\n",
    "best_params['sensor_5'] = {\"degree\": 7, \"C\": 5}\n",
    "best_params['sensor_1_fs'] = {\"degree\": 7, \"C\": 5}\n",
    "best_params['sensor_2_fs'] = {\"degree\": 7, \"C\": 7}\n",
    "best_params['sensor_3_fs'] = {\"degree\": 7, \"C\": 7}\n",
    "best_params['sensor_4_fs'] = {\"degree\": 7, \"C\": 7}\n",
    "best_params['sensor_5_fs'] = {\"degree\": 7, \"C\": 5}"
   ]
  },
  {
   "cell_type": "markdown",
   "metadata": {},
   "source": [
    "### 2022 full"
   ]
  },
  {
   "cell_type": "code",
   "execution_count": 6,
   "metadata": {},
   "outputs": [],
   "source": [
    "svc_2022_full = SVC(kernel=\"poly\", random_state=rs, degree=best_params['2022_full']['degree'], C=best_params['2022_full']['C'])\n",
    "svc_2022_full.fit(X_train_scaled_2022.loc[:, ~X_train_scaled_2022.columns.isin(removable_full_columns)], np.ravel(y_train_2022))\n",
    "pickle.dump(svc_2022_full, open('./svc_2022_full.pkl', 'wb'))"
   ]
  },
  {
   "cell_type": "markdown",
   "metadata": {},
   "source": [
    "### 2022 feature selection"
   ]
  },
  {
   "cell_type": "code",
   "execution_count": 7,
   "metadata": {},
   "outputs": [],
   "source": [
    "svc_2022_fs = SVC(kernel=\"poly\", random_state=rs, degree=best_params['2022_fs']['degree'], C=best_params['2022_fs']['C'])\n",
    "svc_2022_fs.fit(X_train_scaled_2022.loc[:, top_10_features], np.ravel(y_train_2022))\n",
    "pickle.dump(svc_2022_fs, open('./svc_2022_fs.pkl', 'wb'))"
   ]
  },
  {
   "cell_type": "markdown",
   "metadata": {},
   "source": [
    "### 2022 wavelet"
   ]
  },
  {
   "cell_type": "code",
   "execution_count": 8,
   "metadata": {},
   "outputs": [],
   "source": [
    "svc_2022_wavelet = SVC(kernel=\"poly\", random_state=rs, degree=best_params['2022_wavelet']['degree'], C=best_params['2022_wavelet']['C'])\n",
    "svc_2022_wavelet.fit(X_train_scaled_2022.loc[:, full_wavelet_columns], np.ravel(y_train_2022))\n",
    "pickle.dump(svc_2022_wavelet, open('./svc_2022_wavelet.pkl', 'wb'))"
   ]
  },
  {
   "cell_type": "markdown",
   "metadata": {},
   "source": [
    "### 2022 sensor"
   ]
  },
  {
   "cell_type": "code",
   "execution_count": 9,
   "metadata": {},
   "outputs": [],
   "source": [
    "for sensor in sensors:\n",
    "    scaled_training_data = sensor_data[f'sensor_{sensor}']['X_train_scaled']\n",
    "    training_target_data = sensor_data[f'sensor_{sensor}']['y_train']\n",
    "    removable_sensors_columns = get_removable_sensor_columns(sensor)\n",
    "\n",
    "    svc_sensor = SVC(kernel=\"poly\", random_state=rs, degree=best_params[f'sensor_{sensor}']['degree'], C=best_params[f'sensor_{sensor}']['C'])\n",
    "    svc_sensor.fit(scaled_training_data.loc[:, ~scaled_training_data.columns.isin(removable_sensors_columns)], np.ravel(training_target_data))\n",
    "\n",
    "    model_name = f'svc_sensor_{sensor}.pkl'\n",
    "    pickle.dump(svc_sensor, open(model_name, 'wb'))"
   ]
  },
  {
   "cell_type": "markdown",
   "metadata": {},
   "source": [
    "### 2022 sensor feature selection"
   ]
  },
  {
   "cell_type": "code",
   "execution_count": 10,
   "metadata": {},
   "outputs": [],
   "source": [
    "for sensor in sensors:\n",
    "    scaled_training_data = sensor_data[f'sensor_{sensor}']['X_train_scaled']\n",
    "    training_target_data = sensor_data[f'sensor_{sensor}']['y_train']\n",
    "    fs_columns = top_10_sensor_features[f'sensor_{sensor}']\n",
    "\n",
    "    svc_fs = SVC(kernel=\"poly\", random_state=rs, degree=best_params[f'sensor_{sensor}_fs']['degree'], C=best_params[f'sensor_{sensor}_fs']['C'])\n",
    "    svc_fs.fit(scaled_training_data.loc[:, fs_columns], np.ravel(training_target_data))\n",
    "\n",
    "    model_name = f'svc_fs_sensor_{sensor}.pkl'\n",
    "    pickle.dump(svc_fs, open(model_name, 'wb'))"
   ]
  }
 ],
 "metadata": {
  "kernelspec": {
   "display_name": "Python 3",
   "language": "python",
   "name": "python3"
  },
  "language_info": {
   "codemirror_mode": {
    "name": "ipython",
    "version": 3
   },
   "file_extension": ".py",
   "mimetype": "text/x-python",
   "name": "python",
   "nbconvert_exporter": "python",
   "pygments_lexer": "ipython3",
   "version": "3.10.12"
  }
 },
 "nbformat": 4,
 "nbformat_minor": 2
}
