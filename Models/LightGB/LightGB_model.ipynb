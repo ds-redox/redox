{
 "cells": [
  {
   "cell_type": "code",
   "execution_count": 2,
   "metadata": {},
   "outputs": [],
   "source": [
    "import pandas as pd\n",
    "import lightgbm as lgb\n",
    "from sklearn.model_selection import GridSearchCV\n",
    "import pickle"
   ]
  },
  {
   "cell_type": "markdown",
   "metadata": {},
   "source": [
    "# Read the data"
   ]
  },
  {
   "cell_type": "code",
   "execution_count": 3,
   "metadata": {},
   "outputs": [],
   "source": [
    "#update the paths and files, if needed\n",
    "data_X_train = pd.read_pickle('./wavelet_pickle_data/wavelet_pickle_data/2022/Scaled/X_train_scaled.pkl')\n",
    "data_y_train = pd.read_pickle('./wavelet_pickle_data/wavelet_pickle_data/2022/y_train.pkl')"
   ]
  },
  {
   "cell_type": "code",
   "execution_count": 4,
   "metadata": {},
   "outputs": [],
   "source": [
    "data_X_train = data_X_train.sort_index()\n",
    "data_y_train = data_y_train.sort_index()"
   ]
  },
  {
   "cell_type": "markdown",
   "metadata": {},
   "source": [
    "# Prepare the data for training"
   ]
  },
  {
   "cell_type": "code",
   "execution_count": 6,
   "metadata": {},
   "outputs": [],
   "source": [
    "columns = ['Redox_Avg(1)', 'WC1','Temp_T12_Avg(1)','EC_Avg(1)','Matric_potential_Avg(1)','Redox_Avg(1)_sigma_b_24','Redox_Avg(1)_sigma_f_24','Redox_Avg(1)_sigma_b_12','Redox_Avg(1)_sigma_f_12',\n",
    "           'Redox_Avg(2)', 'WC2','Temp_T12_Avg(2)','EC_Avg(2)','Matric_potential_Avg(2)','Redox_Avg(2)_sigma_b_24','Redox_Avg(2)_sigma_f_24','Redox_Avg(2)_sigma_b_12','Redox_Avg(2)_sigma_f_12',\n",
    "           'Redox_Avg(3)', 'WC3','Temp_T12_Avg(3)','EC_Avg(3)','Matric_potential_Avg(3)','Redox_Avg(3)_sigma_b_24','Redox_Avg(3)_sigma_f_24','Redox_Avg(3)_sigma_b_12','Redox_Avg(3)_sigma_f_12',\n",
    "           'Redox_Avg(4)', 'WC4','Temp_T12_Avg(4)','EC_Avg(4)','Matric_potential_Avg(4)','Redox_Avg(4)_sigma_b_24','Redox_Avg(4)_sigma_f_24','Redox_Avg(4)_sigma_b_12','Redox_Avg(4)_sigma_f_12',\n",
    "           'Redox_Avg(5)', 'WC5','Temp_T12_Avg(5)','EC_Avg(5)','Matric_potential_Avg(5)','Redox_Avg(5)_sigma_b_24','Redox_Avg(5)_sigma_f_24','Redox_Avg(5)_sigma_b_12','Redox_Avg(5)_sigma_f_12'\n",
    "            ,'Water_level_Avg','Temp_ottpls_Avg','BatterymV_Min','Wave_period_0.5(1)', 'Wave_period_0.7(1)', 'Wave_period_0.9(1)',\n",
    "       'Wave_period_1.1(1)', 'Wave_period_1.5(1)', 'Wave_period_1.9(1)',\n",
    "       'Wave_period_2.5(1)', 'Wave_period_3.3(1)', 'Wave_period_4.4(1)',\n",
    "       'Wave_period_0.5(2)', 'Wave_period_0.7(2)', 'Wave_period_0.9(2)',\n",
    "       'Wave_period_1.1(2)', 'Wave_period_1.5(2)', 'Wave_period_1.9(2)',\n",
    "       'Wave_period_2.5(2)', 'Wave_period_3.3(2)', 'Wave_period_4.4(2)',\n",
    "       'Wave_period_0.5(3)', 'Wave_period_0.7(3)', 'Wave_period_0.9(3)',\n",
    "       'Wave_period_1.1(3)', 'Wave_period_1.5(3)', 'Wave_period_1.9(3)',\n",
    "       'Wave_period_2.5(3)', 'Wave_period_3.3(3)', 'Wave_period_4.4(3)',\n",
    "       'Wave_period_0.5(4)', 'Wave_period_0.7(4)', 'Wave_period_0.9(4)',\n",
    "       'Wave_period_1.1(4)', 'Wave_period_1.5(4)', 'Wave_period_1.9(4)',\n",
    "       'Wave_period_2.5(4)', 'Wave_period_3.3(4)', 'Wave_period_4.4(4)',\n",
    "       'Wave_period_0.5(5)', 'Wave_period_0.7(5)', 'Wave_period_0.9(5)',\n",
    "       'Wave_period_1.1(5)', 'Wave_period_1.5(5)', 'Wave_period_1.9(5)',\n",
    "       'Wave_period_2.5(5)', 'Wave_period_3.3(5)', 'Wave_period_4.4(5)']\n",
    "\n",
    "\n",
    "X_train = data_X_train[columns]\n",
    "y_train= data_y_train[f'Redox_error_flag']"
   ]
  },
  {
   "cell_type": "markdown",
   "metadata": {},
   "source": [
    "# Model's parameter selection"
   ]
  },
  {
   "cell_type": "code",
   "execution_count": 12,
   "metadata": {},
   "outputs": [
    {
     "data": {
      "text/html": [
       "<style>#sk-container-id-3 {color: black;}#sk-container-id-3 pre{padding: 0;}#sk-container-id-3 div.sk-toggleable {background-color: white;}#sk-container-id-3 label.sk-toggleable__label {cursor: pointer;display: block;width: 100%;margin-bottom: 0;padding: 0.3em;box-sizing: border-box;text-align: center;}#sk-container-id-3 label.sk-toggleable__label-arrow:before {content: \"▸\";float: left;margin-right: 0.25em;color: #696969;}#sk-container-id-3 label.sk-toggleable__label-arrow:hover:before {color: black;}#sk-container-id-3 div.sk-estimator:hover label.sk-toggleable__label-arrow:before {color: black;}#sk-container-id-3 div.sk-toggleable__content {max-height: 0;max-width: 0;overflow: hidden;text-align: left;background-color: #f0f8ff;}#sk-container-id-3 div.sk-toggleable__content pre {margin: 0.2em;color: black;border-radius: 0.25em;background-color: #f0f8ff;}#sk-container-id-3 input.sk-toggleable__control:checked~div.sk-toggleable__content {max-height: 200px;max-width: 100%;overflow: auto;}#sk-container-id-3 input.sk-toggleable__control:checked~label.sk-toggleable__label-arrow:before {content: \"▾\";}#sk-container-id-3 div.sk-estimator input.sk-toggleable__control:checked~label.sk-toggleable__label {background-color: #d4ebff;}#sk-container-id-3 div.sk-label input.sk-toggleable__control:checked~label.sk-toggleable__label {background-color: #d4ebff;}#sk-container-id-3 input.sk-hidden--visually {border: 0;clip: rect(1px 1px 1px 1px);clip: rect(1px, 1px, 1px, 1px);height: 1px;margin: -1px;overflow: hidden;padding: 0;position: absolute;width: 1px;}#sk-container-id-3 div.sk-estimator {font-family: monospace;background-color: #f0f8ff;border: 1px dotted black;border-radius: 0.25em;box-sizing: border-box;margin-bottom: 0.5em;}#sk-container-id-3 div.sk-estimator:hover {background-color: #d4ebff;}#sk-container-id-3 div.sk-parallel-item::after {content: \"\";width: 100%;border-bottom: 1px solid gray;flex-grow: 1;}#sk-container-id-3 div.sk-label:hover label.sk-toggleable__label {background-color: #d4ebff;}#sk-container-id-3 div.sk-serial::before {content: \"\";position: absolute;border-left: 1px solid gray;box-sizing: border-box;top: 0;bottom: 0;left: 50%;z-index: 0;}#sk-container-id-3 div.sk-serial {display: flex;flex-direction: column;align-items: center;background-color: white;padding-right: 0.2em;padding-left: 0.2em;position: relative;}#sk-container-id-3 div.sk-item {position: relative;z-index: 1;}#sk-container-id-3 div.sk-parallel {display: flex;align-items: stretch;justify-content: center;background-color: white;position: relative;}#sk-container-id-3 div.sk-item::before, #sk-container-id-3 div.sk-parallel-item::before {content: \"\";position: absolute;border-left: 1px solid gray;box-sizing: border-box;top: 0;bottom: 0;left: 50%;z-index: -1;}#sk-container-id-3 div.sk-parallel-item {display: flex;flex-direction: column;z-index: 1;position: relative;background-color: white;}#sk-container-id-3 div.sk-parallel-item:first-child::after {align-self: flex-end;width: 50%;}#sk-container-id-3 div.sk-parallel-item:last-child::after {align-self: flex-start;width: 50%;}#sk-container-id-3 div.sk-parallel-item:only-child::after {width: 0;}#sk-container-id-3 div.sk-dashed-wrapped {border: 1px dashed gray;margin: 0 0.4em 0.5em 0.4em;box-sizing: border-box;padding-bottom: 0.4em;background-color: white;}#sk-container-id-3 div.sk-label label {font-family: monospace;font-weight: bold;display: inline-block;line-height: 1.2em;}#sk-container-id-3 div.sk-label-container {text-align: center;}#sk-container-id-3 div.sk-container {/* jupyter's `normalize.less` sets `[hidden] { display: none; }` but bootstrap.min.css set `[hidden] { display: none !important; }` so we also need the `!important` here to be able to override the default hidden behavior on the sphinx rendered scikit-learn.org. See: https://github.com/scikit-learn/scikit-learn/issues/21755 */display: inline-block !important;position: relative;}#sk-container-id-3 div.sk-text-repr-fallback {display: none;}</style><div id=\"sk-container-id-3\" class=\"sk-top-container\"><div class=\"sk-text-repr-fallback\"><pre>GridSearchCV(cv=5, estimator=LGBMClassifier(verbosity=-1),\n",
       "             param_grid={&#x27;feature_fraction&#x27;: [0.05, 0.1, 0.2, 0.4, 0.5, 1],\n",
       "                         &#x27;min_child_weight&#x27;: [0.001, 0.01, 0.1, 1, 10],\n",
       "                         &#x27;num_leaves&#x27;: [10, 12, 15, 17, 20]},\n",
       "             scoring=&#x27;recall&#x27;)</pre><b>In a Jupyter environment, please rerun this cell to show the HTML representation or trust the notebook. <br />On GitHub, the HTML representation is unable to render, please try loading this page with nbviewer.org.</b></div><div class=\"sk-container\" hidden><div class=\"sk-item sk-dashed-wrapped\"><div class=\"sk-label-container\"><div class=\"sk-label sk-toggleable\"><input class=\"sk-toggleable__control sk-hidden--visually\" id=\"sk-estimator-id-7\" type=\"checkbox\" ><label for=\"sk-estimator-id-7\" class=\"sk-toggleable__label sk-toggleable__label-arrow\">GridSearchCV</label><div class=\"sk-toggleable__content\"><pre>GridSearchCV(cv=5, estimator=LGBMClassifier(verbosity=-1),\n",
       "             param_grid={&#x27;feature_fraction&#x27;: [0.05, 0.1, 0.2, 0.4, 0.5, 1],\n",
       "                         &#x27;min_child_weight&#x27;: [0.001, 0.01, 0.1, 1, 10],\n",
       "                         &#x27;num_leaves&#x27;: [10, 12, 15, 17, 20]},\n",
       "             scoring=&#x27;recall&#x27;)</pre></div></div></div><div class=\"sk-parallel\"><div class=\"sk-parallel-item\"><div class=\"sk-item\"><div class=\"sk-label-container\"><div class=\"sk-label sk-toggleable\"><input class=\"sk-toggleable__control sk-hidden--visually\" id=\"sk-estimator-id-8\" type=\"checkbox\" ><label for=\"sk-estimator-id-8\" class=\"sk-toggleable__label sk-toggleable__label-arrow\">estimator: LGBMClassifier</label><div class=\"sk-toggleable__content\"><pre>LGBMClassifier(verbosity=-1)</pre></div></div></div><div class=\"sk-serial\"><div class=\"sk-item\"><div class=\"sk-estimator sk-toggleable\"><input class=\"sk-toggleable__control sk-hidden--visually\" id=\"sk-estimator-id-9\" type=\"checkbox\" ><label for=\"sk-estimator-id-9\" class=\"sk-toggleable__label sk-toggleable__label-arrow\">LGBMClassifier</label><div class=\"sk-toggleable__content\"><pre>LGBMClassifier(verbosity=-1)</pre></div></div></div></div></div></div></div></div></div></div>"
      ],
      "text/plain": [
       "GridSearchCV(cv=5, estimator=LGBMClassifier(verbosity=-1),\n",
       "             param_grid={'feature_fraction': [0.05, 0.1, 0.2, 0.4, 0.5, 1],\n",
       "                         'min_child_weight': [0.001, 0.01, 0.1, 1, 10],\n",
       "                         'num_leaves': [10, 12, 15, 17, 20]},\n",
       "             scoring='recall')"
      ]
     },
     "execution_count": 12,
     "metadata": {},
     "output_type": "execute_result"
    }
   ],
   "source": [
    "params = {\n",
    "       'num_leaves': [10,12,15,17,20],\n",
    "       'min_child_weight': [0.001,0.01,0.1,1,10],\n",
    "       'feature_fraction': [0.05,0.1,0.2,0.4,0.5,1]\n",
    "}\n",
    "\n",
    "\n",
    "gbm_clf = lgb.LGBMClassifier(max_depth=-1,verbosity=-1)\n",
    "\n",
    "gsearch = GridSearchCV(estimator=gbm_clf,param_grid=params,cv=5,scoring='recall')\n",
    "\n",
    "gsearch.fit(X_train, y_train)\n"
   ]
  },
  {
   "cell_type": "markdown",
   "metadata": {},
   "source": [
    "# Model training"
   ]
  },
  {
   "cell_type": "code",
   "execution_count": 13,
   "metadata": {},
   "outputs": [],
   "source": [
    "gbm_clf = lgb.LGBMClassifier(max_depth=-1, **gsearch.best_params_,verbosity=-1)\n",
    "gbm_clf.fit(X_train, y_train)\n",
    "pickle.dump(gbm_clf, open('./LightGB_model.pkl', 'wb'))"
   ]
  }
 ],
 "metadata": {
  "kernelspec": {
   "display_name": "Python 3",
   "language": "python",
   "name": "python3"
  },
  "language_info": {
   "codemirror_mode": {
    "name": "ipython",
    "version": 3
   },
   "file_extension": ".py",
   "mimetype": "text/x-python",
   "name": "python",
   "nbconvert_exporter": "python",
   "pygments_lexer": "ipython3",
   "version": "3.8.10"
  }
 },
 "nbformat": 4,
 "nbformat_minor": 2
}
