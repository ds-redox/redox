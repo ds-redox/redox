{
 "cells": [
  {
   "cell_type": "code",
   "execution_count": 3,
   "metadata": {},
   "outputs": [],
   "source": [
    "from os import walk\n",
    "import pickle\n",
    "import pandas as pd\n",
    "import numpy as np"
   ]
  },
  {
   "cell_type": "code",
   "execution_count": null,
   "metadata": {},
   "outputs": [],
   "source": [
    "class EnsembleModel:\n",
    "    def __init__(self, anomaly_frac = 0.1, vote_threshold = None):\n",
    "        self.anomaly_frac = anomaly_frac\n",
    "        self.vote_threshold = vote_threshold\n",
    "        self.models = []\n",
    "        self.model_weigths = []\n",
    "\n",
    "    def load_models(self, model_filepath):\n",
    "        for (root, dirs, file) in walk(model_filepath):\n",
    "            for f in file:\n",
    "                if '.pkl' in f:\n",
    "                    try:\n",
    "                        self.models.append(pickle.load(open(f'{root}{f}', 'rb')))\n",
    "                    except:\n",
    "                        continue\n",
    "        if not self.model_weigths:\n",
    "            self.model_weigths = np.ones(len(self.models))\n",
    "\n",
    "    def set_model_weights(self, weights):\n",
    "        if len(weights) == len(self.models):\n",
    "            self.model_weigths = weights\n",
    "        else:\n",
    "            raise Exception('Number of model weights must be equal to the number of models.') \n",
    "    \n",
    "    def predict(self, X):\n",
    "        predictions = []\n",
    "        for m in self.models:\n",
    "            predictions.append(m.predict(X))\n",
    "        \n",
    "        votes = np.zeros(X.shape[0])\n",
    "        for i, p in enumerate(predictions):\n",
    "            votes = votes + (p * self.model_weigths[i])\n",
    "        \n",
    "        if self.vote_threshold:\n",
    "            return (votes >= self.vote_threshold)\n",
    "        else:\n",
    "            n_anomalies = np.ceil(self.anomaly_frac * X.shape[0])\n",
    "            most_votes_ind = np.sort(np.argpartition(votes, -n_anomalies)[-n_anomalies:])\n",
    "            return X[most_votes_ind]\n",
    "\n",
    "    "
   ]
  }
 ],
 "metadata": {
  "kernelspec": {
   "display_name": "base",
   "language": "python",
   "name": "python3"
  },
  "language_info": {
   "codemirror_mode": {
    "name": "ipython",
    "version": 3
   },
   "file_extension": ".py",
   "mimetype": "text/x-python",
   "name": "python",
   "nbconvert_exporter": "python",
   "pygments_lexer": "ipython3",
   "version": "3.11.8"
  }
 },
 "nbformat": 4,
 "nbformat_minor": 2
}
